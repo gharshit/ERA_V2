{
  "nbformat": 4,
  "nbformat_minor": 0,
  "metadata": {
    "colab": {
      "provenance": [],
      "gpuType": "V100",
      "machine_shape": "hm"
    },
    "kernelspec": {
      "name": "python3",
      "display_name": "Python 3"
    },
    "language_info": {
      "name": "python"
    },
    "accelerator": "GPU"
  },
  "cells": [
    {
      "cell_type": "markdown",
      "source": [
        "# Code Block 1"
      ],
      "metadata": {
        "id": "zsgXabnoEwwG"
      }
    },
    {
      "cell_type": "code",
      "execution_count": 1,
      "metadata": {
        "colab": {
          "base_uri": "https://localhost:8080/"
        },
        "id": "ZFlX2NozdNU6",
        "outputId": "6faf86f1-f0fd-424f-ad2b-28eb7b5665c0"
      },
      "outputs": [
        {
          "output_type": "stream",
          "name": "stdout",
          "text": [
            "Requirement already satisfied: torchsummary in /usr/local/lib/python3.10/dist-packages (1.5.1)\n"
          ]
        }
      ],
      "source": [
        "############################ Load required libraries ############################\n",
        "import torch\n",
        "!pip install torchsummary\n",
        "from torchsummary import summary\n",
        "import matplotlib.pyplot as plt\n",
        "\n",
        "\n",
        "#Load Model configuration\n",
        "from models import Model\n",
        "# Load necessary functions\n",
        "from utils import  *\n",
        "\n",
        "\n",
        "\n",
        "################################ Hyperparamters ################################\n",
        "\n",
        "\n",
        "\n",
        "\n",
        "# variables to store data to plot accuracy and loss graphs\n",
        "train_losses = []\n",
        "test_losses = []\n",
        "train_acc = []\n",
        "test_acc = []\n",
        "\n",
        "# Define hyperparameters\n",
        "batch_size = 256          # Define the batch size for data loading\n",
        "lr = 0.2                  # Define learning rate value\n",
        "momentum = 0.9            # Define momentum value\n",
        "step_size= 5              # Define stepsize value in scheduler\n",
        "gamma=0.75                 # Define dacay value of learning rate in scheduler\n",
        "\n",
        "criterion_name = \"nll_loss\"       # Define criterion name\n",
        "num_epochs = 80                   # Number of epochs for training\n",
        "optimizer_algo = \"SGD\"            # Define optimizer name\n",
        "dropout_num = 0.05\n",
        "\n",
        "# Create a dictionary of keyword arguments (kwargs) for DataLoader\n",
        "kwargs = {\n",
        "    'batch_size': batch_size,   # Set the batch size for each batch of data\n",
        "    'shuffle': True,            # ensures that the model encounters a diverse mix of data during training, leading to better learning and generalization (during testing, the order of data doesn’t impact the model’s predictions)\n",
        "    'num_workers': 4,           # Number of worker threads for data loading ( each worker will deal with batchsize/num_workers set of data under a batch) # parallel processing-> reduces overall time\n",
        "    'pin_memory': True          # Enable pinning memory for faster GPU transfer\n",
        "}\n"
      ]
    },
    {
      "cell_type": "markdown",
      "source": [
        "# Code Block 2"
      ],
      "metadata": {
        "id": "cnxUvygFFArc"
      }
    },
    {
      "cell_type": "code",
      "source": [
        "# check if CUDA is available or not\n",
        "cuda = torch.cuda.is_available()\n",
        "print(\"CUDA Available?\", cuda)\n",
        "device = torch.device(\"cuda\" if cuda else \"cpu\")       #setting the device on which computations will be executed\n",
        "print(\"Device set to: \",device)"
      ],
      "metadata": {
        "colab": {
          "base_uri": "https://localhost:8080/"
        },
        "id": "WNKTDyd1dR2o",
        "outputId": "3c413606-8ce8-404a-e711-c42a91b829c6"
      },
      "execution_count": 2,
      "outputs": [
        {
          "output_type": "stream",
          "name": "stdout",
          "text": [
            "CUDA Available? True\n",
            "Device set to:  cuda\n"
          ]
        }
      ]
    },
    {
      "cell_type": "markdown",
      "source": [
        "# Code Block 3"
      ],
      "metadata": {
        "id": "WAVUWNCdFD8h"
      }
    },
    {
      "cell_type": "code",
      "source": [
        "## Get CIFAR dataset and pass it to loader\n",
        "\n",
        "_ ,test_loader            = get_CIFARdataset_with_loader('test',kwargs)   # load test data\n",
        "label_, train_loader      = get_CIFARdataset_with_loader('train',kwargs)  # load train data\n",
        "print()\n",
        "\n",
        "label_map = {v: k for k, v in label_.items()}\n",
        "label_map"
      ],
      "metadata": {
        "colab": {
          "base_uri": "https://localhost:8080/"
        },
        "id": "AayrH4UjdTrG",
        "outputId": "9c27858c-9146-4ef9-c091-a0806bb6ac5c"
      },
      "execution_count": 3,
      "outputs": [
        {
          "output_type": "stream",
          "name": "stdout",
          "text": [
            "Downloading https://www.cs.toronto.edu/~kriz/cifar-10-python.tar.gz to ../data/cifar-10-python.tar.gz\n"
          ]
        },
        {
          "output_type": "stream",
          "name": "stderr",
          "text": [
            "100%|██████████| 170498071/170498071 [00:05<00:00, 29627848.44it/s]\n"
          ]
        },
        {
          "output_type": "stream",
          "name": "stdout",
          "text": [
            "Extracting ../data/cifar-10-python.tar.gz to ../data\n",
            "Testing data loaded successfully. Shape of data:  (10000, 32, 32, 3)\n",
            "Files already downloaded and verified\n",
            "Training data loaded successfully. Shape of data:  (50000, 32, 32, 3)\n",
            "\n"
          ]
        },
        {
          "output_type": "execute_result",
          "data": {
            "text/plain": [
              "{0: 'airplane',\n",
              " 1: 'automobile',\n",
              " 2: 'bird',\n",
              " 3: 'cat',\n",
              " 4: 'deer',\n",
              " 5: 'dog',\n",
              " 6: 'frog',\n",
              " 7: 'horse',\n",
              " 8: 'ship',\n",
              " 9: 'truck'}"
            ]
          },
          "metadata": {},
          "execution_count": 3
        }
      ]
    },
    {
      "cell_type": "markdown",
      "source": [
        "# Code Block 4"
      ],
      "metadata": {
        "id": "H3x-Ed-9FGuc"
      }
    },
    {
      "cell_type": "code",
      "source": [
        "################ Display a sample of data from the training dataset #####################\n",
        "post_display(train_loader,label_map)"
      ],
      "metadata": {
        "colab": {
          "base_uri": "https://localhost:8080/",
          "height": 806
        },
        "id": "0N-ETtINdVMb",
        "outputId": "5dff16a2-e6b5-4cb4-c755-39be0f52d587"
      },
      "execution_count": 4,
      "outputs": [
        {
          "output_type": "display_data",
          "data": {
            "text/plain": [
              "<Figure size 800x800 with 16 Axes>"
            ],
            "image/png": "[encoded data removed]"
          },
          "metadata": {}
        }
      ]
    },
    {
      "cell_type": "markdown",
      "source": [
        "# Code Block 5"
      ],
      "metadata": {
        "id": "hxQEJ5K1FLA8"
      }
    },
    {
      "cell_type": "code",
      "source": [
        "# For reproducibility\n",
        "SEED = 4\n",
        "torch.manual_seed(SEED)\n",
        "\n",
        "if cuda:\n",
        "    torch.cuda.manual_seed(SEED)\n",
        "\n",
        "# Initialize the model and move it to the device ( GPU )\n",
        "model = Model(dropout_value = dropout_num).to(device)\n",
        "\n",
        "#Get summary of model\n",
        "summary(model, input_size=(3, 32, 32))"
      ],
      "metadata": {
        "colab": {
          "base_uri": "https://localhost:8080/"
        },
        "id": "RsExBc2UdWx_",
        "outputId": "a15c661b-df75-4980-a0fb-5a3d7014e077"
      },
      "execution_count": 5,
      "outputs": [
        {
          "output_type": "stream",
          "name": "stdout",
          "text": [
            "----------------------------------------------------------------\n",
            "        Layer (type)               Output Shape         Param #\n",
            "================================================================\n",
            "            Conv2d-1           [-1, 16, 30, 30]             432\n",
            "              ReLU-2           [-1, 16, 30, 30]               0\n",
            "       BatchNorm2d-3           [-1, 16, 30, 30]              32\n",
            "           Dropout-4           [-1, 16, 30, 30]               0\n",
            "            Conv2d-5           [-1, 32, 30, 30]           4,608\n",
            "              ReLU-6           [-1, 32, 30, 30]               0\n",
            "       BatchNorm2d-7           [-1, 32, 30, 30]              64\n",
            "           Dropout-8           [-1, 32, 30, 30]               0\n",
            "            Conv2d-9           [-1, 48, 26, 26]          13,824\n",
            "             ReLU-10           [-1, 48, 26, 26]               0\n",
            "      BatchNorm2d-11           [-1, 48, 26, 26]              96\n",
            "          Dropout-12           [-1, 48, 26, 26]               0\n",
            "           Conv2d-13           [-1, 32, 13, 13]          13,824\n",
            "             ReLU-14           [-1, 32, 13, 13]               0\n",
            "      BatchNorm2d-15           [-1, 32, 13, 13]              64\n",
            "          Dropout-16           [-1, 32, 13, 13]               0\n",
            "           Conv2d-17           [-1, 64, 13, 13]          18,432\n",
            "             ReLU-18           [-1, 64, 13, 13]               0\n",
            "      BatchNorm2d-19           [-1, 64, 13, 13]             128\n",
            "          Dropout-20           [-1, 64, 13, 13]               0\n",
            "           Conv2d-21           [-1, 96, 13, 13]          55,296\n",
            "             ReLU-22           [-1, 96, 13, 13]               0\n",
            "      BatchNorm2d-23           [-1, 96, 13, 13]             192\n",
            "          Dropout-24           [-1, 96, 13, 13]               0\n",
            "           Conv2d-25           [-1, 64, 13, 13]           6,144\n",
            "           Conv2d-26             [-1, 32, 7, 7]          18,432\n",
            "             ReLU-27             [-1, 32, 7, 7]               0\n",
            "      BatchNorm2d-28             [-1, 32, 7, 7]              64\n",
            "          Dropout-29             [-1, 32, 7, 7]               0\n",
            "           Conv2d-30             [-1, 64, 7, 7]             576\n",
            "             ReLU-31             [-1, 64, 7, 7]               0\n",
            "      BatchNorm2d-32             [-1, 64, 7, 7]             128\n",
            "          Dropout-33             [-1, 64, 7, 7]               0\n",
            "           Conv2d-34            [-1, 128, 7, 7]           1,152\n",
            "             ReLU-35            [-1, 128, 7, 7]               0\n",
            "      BatchNorm2d-36            [-1, 128, 7, 7]             256\n",
            "          Dropout-37            [-1, 128, 7, 7]               0\n",
            "           Conv2d-38             [-1, 64, 7, 7]           8,192\n",
            "           Conv2d-39             [-1, 64, 4, 4]          36,864\n",
            "             ReLU-40             [-1, 64, 4, 4]               0\n",
            "      BatchNorm2d-41             [-1, 64, 4, 4]             128\n",
            "          Dropout-42             [-1, 64, 4, 4]               0\n",
            "           Conv2d-43            [-1, 128, 4, 4]           1,152\n",
            "             ReLU-44            [-1, 128, 4, 4]               0\n",
            "      BatchNorm2d-45            [-1, 128, 4, 4]             256\n",
            "          Dropout-46            [-1, 128, 4, 4]               0\n",
            "           Conv2d-47            [-1, 256, 4, 4]           2,304\n",
            "             ReLU-48            [-1, 256, 4, 4]               0\n",
            "      BatchNorm2d-49            [-1, 256, 4, 4]             512\n",
            "          Dropout-50            [-1, 256, 4, 4]               0\n",
            "           Conv2d-51            [-1, 256, 4, 4]           2,304\n",
            "             ReLU-52            [-1, 256, 4, 4]               0\n",
            "      BatchNorm2d-53            [-1, 256, 4, 4]             512\n",
            "          Dropout-54            [-1, 256, 4, 4]               0\n",
            "           Conv2d-55             [-1, 52, 4, 4]          13,312\n",
            "AdaptiveAvgPool2d-56             [-1, 52, 1, 1]               0\n",
            "           Conv2d-57             [-1, 10, 1, 1]             530\n",
            "================================================================\n",
            "Total params: 199,810\n",
            "Trainable params: 199,810\n",
            "Non-trainable params: 0\n",
            "----------------------------------------------------------------\n",
            "Input size (MB): 0.01\n",
            "Forward/backward pass size (MB): 4.09\n",
            "Params size (MB): 0.76\n",
            "Estimated Total Size (MB): 4.86\n",
            "----------------------------------------------------------------\n"
          ]
        }
      ]
    },
    {
      "cell_type": "markdown",
      "source": [
        "# Code Block 6"
      ],
      "metadata": {
        "id": "YibwAyEMFOsq"
      }
    },
    {
      "cell_type": "code",
      "source": [
        "####################################################### Train Model#####################################################\n",
        "\n",
        "# Set up the optimizer with stochastic gradient descent with learning rate and momentum\n",
        "optimizer = get_optimizer(model,optimizer_algo, lr, momentum)\n",
        "\n",
        "# Configure a learning rate scheduler that decays the learning rate by a factor of 0.1 every 15 epochs\n",
        "scheduler = optim.lr_scheduler.StepLR(optimizer, step_size=step_size, gamma=gamma)\n",
        "\n",
        "# Define the loss function as negative log likelihood loss.\n",
        "criterion = get_loss(criterion_name)\n",
        "\n",
        "\n",
        "print(f\"The current learning rate is: {[round(lr,2)]}\")\n",
        "# Loop over the dataset multiple times, once for each epoch\n",
        "for epoch in range(1, num_epochs+1):\n",
        "    # Print the current epoch number\n",
        "    print(f'Epoch {epoch}')\n",
        "\n",
        "    # Call the train function, passing in the model, device, data loader, optimizer, and loss function\n",
        "    train(model, device, train_loader, optimizer, criterion,train_losses,train_acc)\n",
        "\n",
        "    # After training, evaluate the model on the same training data loader (should be test_loader for evaluation)\n",
        "    misclassified_samples = test(model, device, test_loader, criterion,test_losses,test_acc)\n",
        "\n",
        "    scheduler.step()   #update the lr\n",
        "    current_lr = scheduler.get_last_lr()  # Get the latest learning rate\n",
        "    print(f\"The current learning rate is: {[round(current_lr[0],2)]}\")\n"
      ],
      "metadata": {
        "colab": {
          "base_uri": "https://localhost:8080/"
        },
        "id": "Hoy7nyRKddxr",
        "outputId": "c3425e78-062e-4d79-d8ac-580d246faf48"
      },
      "execution_count": 6,
      "outputs": [
        {
          "output_type": "stream",
          "name": "stdout",
          "text": [
            "The current learning rate is: [0.2]\n",
            "Epoch 1\n"
          ]
        },
        {
          "output_type": "stream",
          "name": "stderr",
          "text": [
            "Train: Loss=1.6094 Batch_id=195 Accuracy=34.81: 100%|██████████| 196/196 [00:04<00:00, 39.71it/s]\n"
          ]
        },
        {
          "output_type": "stream",
          "name": "stdout",
          "text": [
            "Test set: Average loss: 0.0060, Accuracy: 4366/10000 (43.66%)\n",
            "\n",
            "The current learning rate is: [0.2]\n",
            "Epoch 2\n"
          ]
        },
        {
          "output_type": "stream",
          "name": "stderr",
          "text": [
            "Train: Loss=1.4988 Batch_id=195 Accuracy=45.33: 100%|██████████| 196/196 [00:04<00:00, 43.00it/s]\n"
          ]
        },
        {
          "output_type": "stream",
          "name": "stdout",
          "text": [
            "Test set: Average loss: 0.0055, Accuracy: 5048/10000 (50.48%)\n",
            "\n",
            "The current learning rate is: [0.2]\n",
            "Epoch 3\n"
          ]
        },
        {
          "output_type": "stream",
          "name": "stderr",
          "text": [
            "Train: Loss=1.2969 Batch_id=195 Accuracy=50.71: 100%|██████████| 196/196 [00:04<00:00, 46.70it/s]\n"
          ]
        },
        {
          "output_type": "stream",
          "name": "stdout",
          "text": [
            "Test set: Average loss: 0.0049, Accuracy: 5639/10000 (56.39%)\n",
            "\n",
            "The current learning rate is: [0.2]\n",
            "Epoch 4\n"
          ]
        },
        {
          "output_type": "stream",
          "name": "stderr",
          "text": [
            "Train: Loss=1.0372 Batch_id=195 Accuracy=55.18: 100%|██████████| 196/196 [00:04<00:00, 47.59it/s]\n"
          ]
        },
        {
          "output_type": "stream",
          "name": "stdout",
          "text": [
            "Test set: Average loss: 0.0046, Accuracy: 5846/10000 (58.46%)\n",
            "\n",
            "The current learning rate is: [0.2]\n",
            "Epoch 5\n"
          ]
        },
        {
          "output_type": "stream",
          "name": "stderr",
          "text": [
            "Train: Loss=1.3092 Batch_id=195 Accuracy=57.96: 100%|██████████| 196/196 [00:04<00:00, 45.90it/s]\n"
          ]
        },
        {
          "output_type": "stream",
          "name": "stdout",
          "text": [
            "Test set: Average loss: 0.0042, Accuracy: 6328/10000 (63.28%)\n",
            "\n",
            "The current learning rate is: [0.15]\n",
            "Epoch 6\n"
          ]
        },
        {
          "output_type": "stream",
          "name": "stderr",
          "text": [
            "Train: Loss=1.1212 Batch_id=195 Accuracy=62.33: 100%|██████████| 196/196 [00:04<00:00, 46.71it/s]\n"
          ]
        },
        {
          "output_type": "stream",
          "name": "stdout",
          "text": [
            "Test set: Average loss: 0.0037, Accuracy: 6721/10000 (67.21%)\n",
            "\n",
            "The current learning rate is: [0.15]\n",
            "Epoch 7\n"
          ]
        },
        {
          "output_type": "stream",
          "name": "stderr",
          "text": [
            "Train: Loss=1.1056 Batch_id=195 Accuracy=64.21: 100%|██████████| 196/196 [00:04<00:00, 46.13it/s]\n"
          ]
        },
        {
          "output_type": "stream",
          "name": "stdout",
          "text": [
            "Test set: Average loss: 0.0036, Accuracy: 6823/10000 (68.23%)\n",
            "\n",
            "The current learning rate is: [0.15]\n",
            "Epoch 8\n"
          ]
        },
        {
          "output_type": "stream",
          "name": "stderr",
          "text": [
            "Train: Loss=1.1883 Batch_id=195 Accuracy=65.51: 100%|██████████| 196/196 [00:04<00:00, 47.99it/s]\n"
          ]
        },
        {
          "output_type": "stream",
          "name": "stdout",
          "text": [
            "Test set: Average loss: 0.0034, Accuracy: 7004/10000 (70.04%)\n",
            "\n",
            "The current learning rate is: [0.15]\n",
            "Epoch 9\n"
          ]
        },
        {
          "output_type": "stream",
          "name": "stderr",
          "text": [
            "Train: Loss=0.9512 Batch_id=195 Accuracy=66.98: 100%|██████████| 196/196 [00:04<00:00, 47.37it/s]\n"
          ]
        },
        {
          "output_type": "stream",
          "name": "stdout",
          "text": [
            "Test set: Average loss: 0.0033, Accuracy: 7106/10000 (71.06%)\n",
            "\n",
            "The current learning rate is: [0.15]\n",
            "Epoch 10\n"
          ]
        },
        {
          "output_type": "stream",
          "name": "stderr",
          "text": [
            "Train: Loss=0.7195 Batch_id=195 Accuracy=68.29: 100%|██████████| 196/196 [00:04<00:00, 45.61it/s]\n"
          ]
        },
        {
          "output_type": "stream",
          "name": "stdout",
          "text": [
            "Test set: Average loss: 0.0032, Accuracy: 7179/10000 (71.79%)\n",
            "\n",
            "The current learning rate is: [0.11]\n",
            "Epoch 11\n"
          ]
        },
        {
          "output_type": "stream",
          "name": "stderr",
          "text": [
            "Train: Loss=0.7038 Batch_id=195 Accuracy=70.21: 100%|██████████| 196/196 [00:04<00:00, 48.09it/s]\n"
          ]
        },
        {
          "output_type": "stream",
          "name": "stdout",
          "text": [
            "Test set: Average loss: 0.0030, Accuracy: 7385/10000 (73.85%)\n",
            "\n",
            "The current learning rate is: [0.11]\n",
            "Epoch 12\n"
          ]
        },
        {
          "output_type": "stream",
          "name": "stderr",
          "text": [
            "Train: Loss=0.8311 Batch_id=195 Accuracy=71.37: 100%|██████████| 196/196 [00:04<00:00, 45.26it/s]\n"
          ]
        },
        {
          "output_type": "stream",
          "name": "stdout",
          "text": [
            "Test set: Average loss: 0.0029, Accuracy: 7479/10000 (74.79%)\n",
            "\n",
            "The current learning rate is: [0.11]\n",
            "Epoch 13\n"
          ]
        },
        {
          "output_type": "stream",
          "name": "stderr",
          "text": [
            "Train: Loss=0.9729 Batch_id=195 Accuracy=72.08: 100%|██████████| 196/196 [00:04<00:00, 45.12it/s]\n"
          ]
        },
        {
          "output_type": "stream",
          "name": "stdout",
          "text": [
            "Test set: Average loss: 0.0029, Accuracy: 7383/10000 (73.83%)\n",
            "\n",
            "The current learning rate is: [0.11]\n",
            "Epoch 14\n"
          ]
        },
        {
          "output_type": "stream",
          "name": "stderr",
          "text": [
            "Train: Loss=0.9824 Batch_id=195 Accuracy=72.27: 100%|██████████| 196/196 [00:04<00:00, 46.34it/s]\n"
          ]
        },
        {
          "output_type": "stream",
          "name": "stdout",
          "text": [
            "Test set: Average loss: 0.0027, Accuracy: 7640/10000 (76.40%)\n",
            "\n",
            "The current learning rate is: [0.11]\n",
            "Epoch 15\n"
          ]
        },
        {
          "output_type": "stream",
          "name": "stderr",
          "text": [
            "Train: Loss=0.7223 Batch_id=195 Accuracy=73.22: 100%|██████████| 196/196 [00:04<00:00, 45.40it/s]\n"
          ]
        },
        {
          "output_type": "stream",
          "name": "stdout",
          "text": [
            "Test set: Average loss: 0.0026, Accuracy: 7710/10000 (77.10%)\n",
            "\n",
            "The current learning rate is: [0.08]\n",
            "Epoch 16\n"
          ]
        },
        {
          "output_type": "stream",
          "name": "stderr",
          "text": [
            "Train: Loss=0.6339 Batch_id=195 Accuracy=74.68: 100%|██████████| 196/196 [00:04<00:00, 47.74it/s]\n"
          ]
        },
        {
          "output_type": "stream",
          "name": "stdout",
          "text": [
            "Test set: Average loss: 0.0025, Accuracy: 7783/10000 (77.83%)\n",
            "\n",
            "The current learning rate is: [0.08]\n",
            "Epoch 17\n"
          ]
        },
        {
          "output_type": "stream",
          "name": "stderr",
          "text": [
            "Train: Loss=0.6668 Batch_id=195 Accuracy=75.68: 100%|██████████| 196/196 [00:04<00:00, 45.55it/s]\n"
          ]
        },
        {
          "output_type": "stream",
          "name": "stdout",
          "text": [
            "Test set: Average loss: 0.0025, Accuracy: 7790/10000 (77.90%)\n",
            "\n",
            "The current learning rate is: [0.08]\n",
            "Epoch 18\n"
          ]
        },
        {
          "output_type": "stream",
          "name": "stderr",
          "text": [
            "Train: Loss=0.7147 Batch_id=195 Accuracy=75.76: 100%|██████████| 196/196 [00:04<00:00, 46.83it/s]\n"
          ]
        },
        {
          "output_type": "stream",
          "name": "stdout",
          "text": [
            "Test set: Average loss: 0.0025, Accuracy: 7796/10000 (77.96%)\n",
            "\n",
            "The current learning rate is: [0.08]\n",
            "Epoch 19\n"
          ]
        },
        {
          "output_type": "stream",
          "name": "stderr",
          "text": [
            "Train: Loss=0.4908 Batch_id=195 Accuracy=76.22: 100%|██████████| 196/196 [00:04<00:00, 46.10it/s]\n"
          ]
        },
        {
          "output_type": "stream",
          "name": "stdout",
          "text": [
            "Test set: Average loss: 0.0024, Accuracy: 7909/10000 (79.09%)\n",
            "\n",
            "The current learning rate is: [0.08]\n",
            "Epoch 20\n"
          ]
        },
        {
          "output_type": "stream",
          "name": "stderr",
          "text": [
            "Train: Loss=0.6460 Batch_id=195 Accuracy=76.39: 100%|██████████| 196/196 [00:04<00:00, 46.32it/s]\n"
          ]
        },
        {
          "output_type": "stream",
          "name": "stdout",
          "text": [
            "Test set: Average loss: 0.0024, Accuracy: 7909/10000 (79.09%)\n",
            "\n",
            "The current learning rate is: [0.06]\n",
            "Epoch 21\n"
          ]
        },
        {
          "output_type": "stream",
          "name": "stderr",
          "text": [
            "Train: Loss=0.5691 Batch_id=195 Accuracy=77.33: 100%|██████████| 196/196 [00:04<00:00, 47.04it/s]\n"
          ]
        },
        {
          "output_type": "stream",
          "name": "stdout",
          "text": [
            "Test set: Average loss: 0.0023, Accuracy: 7963/10000 (79.63%)\n",
            "\n",
            "The current learning rate is: [0.06]\n",
            "Epoch 22\n"
          ]
        },
        {
          "output_type": "stream",
          "name": "stderr",
          "text": [
            "Train: Loss=0.8380 Batch_id=195 Accuracy=77.83: 100%|██████████| 196/196 [00:04<00:00, 45.27it/s]\n"
          ]
        },
        {
          "output_type": "stream",
          "name": "stdout",
          "text": [
            "Test set: Average loss: 0.0023, Accuracy: 7993/10000 (79.93%)\n",
            "\n",
            "The current learning rate is: [0.06]\n",
            "Epoch 23\n"
          ]
        },
        {
          "output_type": "stream",
          "name": "stderr",
          "text": [
            "Train: Loss=0.7186 Batch_id=195 Accuracy=78.17: 100%|██████████| 196/196 [00:04<00:00, 48.13it/s]\n"
          ]
        },
        {
          "output_type": "stream",
          "name": "stdout",
          "text": [
            "Test set: Average loss: 0.0023, Accuracy: 8010/10000 (80.10%)\n",
            "\n",
            "The current learning rate is: [0.06]\n",
            "Epoch 24\n"
          ]
        },
        {
          "output_type": "stream",
          "name": "stderr",
          "text": [
            "Train: Loss=0.5910 Batch_id=195 Accuracy=78.43: 100%|██████████| 196/196 [00:04<00:00, 46.38it/s]\n"
          ]
        },
        {
          "output_type": "stream",
          "name": "stdout",
          "text": [
            "Test set: Average loss: 0.0022, Accuracy: 8050/10000 (80.50%)\n",
            "\n",
            "The current learning rate is: [0.06]\n",
            "Epoch 25\n"
          ]
        },
        {
          "output_type": "stream",
          "name": "stderr",
          "text": [
            "Train: Loss=0.6938 Batch_id=195 Accuracy=78.68: 100%|██████████| 196/196 [00:04<00:00, 46.84it/s]\n"
          ]
        },
        {
          "output_type": "stream",
          "name": "stdout",
          "text": [
            "Test set: Average loss: 0.0022, Accuracy: 8072/10000 (80.72%)\n",
            "\n",
            "The current learning rate is: [0.05]\n",
            "Epoch 26\n"
          ]
        },
        {
          "output_type": "stream",
          "name": "stderr",
          "text": [
            "Train: Loss=0.5759 Batch_id=195 Accuracy=79.27: 100%|██████████| 196/196 [00:04<00:00, 47.23it/s]\n"
          ]
        },
        {
          "output_type": "stream",
          "name": "stdout",
          "text": [
            "Test set: Average loss: 0.0021, Accuracy: 8148/10000 (81.48%)\n",
            "\n",
            "The current learning rate is: [0.05]\n",
            "Epoch 27\n"
          ]
        },
        {
          "output_type": "stream",
          "name": "stderr",
          "text": [
            "Train: Loss=0.7043 Batch_id=195 Accuracy=79.63: 100%|██████████| 196/196 [00:04<00:00, 45.75it/s]\n"
          ]
        },
        {
          "output_type": "stream",
          "name": "stdout",
          "text": [
            "Test set: Average loss: 0.0022, Accuracy: 8133/10000 (81.33%)\n",
            "\n",
            "The current learning rate is: [0.05]\n",
            "Epoch 28\n"
          ]
        },
        {
          "output_type": "stream",
          "name": "stderr",
          "text": [
            "Train: Loss=0.6519 Batch_id=195 Accuracy=80.00: 100%|██████████| 196/196 [00:04<00:00, 47.73it/s]\n"
          ]
        },
        {
          "output_type": "stream",
          "name": "stdout",
          "text": [
            "Test set: Average loss: 0.0020, Accuracy: 8184/10000 (81.84%)\n",
            "\n",
            "The current learning rate is: [0.05]\n",
            "Epoch 29\n"
          ]
        },
        {
          "output_type": "stream",
          "name": "stderr",
          "text": [
            "Train: Loss=0.5836 Batch_id=195 Accuracy=80.13: 100%|██████████| 196/196 [00:04<00:00, 46.20it/s]\n"
          ]
        },
        {
          "output_type": "stream",
          "name": "stdout",
          "text": [
            "Test set: Average loss: 0.0021, Accuracy: 8172/10000 (81.72%)\n",
            "\n",
            "The current learning rate is: [0.05]\n",
            "Epoch 30\n"
          ]
        },
        {
          "output_type": "stream",
          "name": "stderr",
          "text": [
            "Train: Loss=0.5855 Batch_id=195 Accuracy=79.98: 100%|██████████| 196/196 [00:04<00:00, 45.90it/s]\n"
          ]
        },
        {
          "output_type": "stream",
          "name": "stdout",
          "text": [
            "Test set: Average loss: 0.0021, Accuracy: 8163/10000 (81.63%)\n",
            "\n",
            "The current learning rate is: [0.04]\n",
            "Epoch 31\n"
          ]
        },
        {
          "output_type": "stream",
          "name": "stderr",
          "text": [
            "Train: Loss=0.6475 Batch_id=195 Accuracy=80.99: 100%|██████████| 196/196 [00:04<00:00, 47.29it/s]\n"
          ]
        },
        {
          "output_type": "stream",
          "name": "stdout",
          "text": [
            "Test set: Average loss: 0.0020, Accuracy: 8180/10000 (81.80%)\n",
            "\n",
            "The current learning rate is: [0.04]\n",
            "Epoch 32\n"
          ]
        },
        {
          "output_type": "stream",
          "name": "stderr",
          "text": [
            "Train: Loss=0.5286 Batch_id=195 Accuracy=81.01: 100%|██████████| 196/196 [00:04<00:00, 46.29it/s]\n"
          ]
        },
        {
          "output_type": "stream",
          "name": "stdout",
          "text": [
            "Test set: Average loss: 0.0021, Accuracy: 8216/10000 (82.16%)\n",
            "\n",
            "The current learning rate is: [0.04]\n",
            "Epoch 33\n"
          ]
        },
        {
          "output_type": "stream",
          "name": "stderr",
          "text": [
            "Train: Loss=0.5246 Batch_id=195 Accuracy=81.06: 100%|██████████| 196/196 [00:04<00:00, 48.31it/s]\n"
          ]
        },
        {
          "output_type": "stream",
          "name": "stdout",
          "text": [
            "Test set: Average loss: 0.0020, Accuracy: 8234/10000 (82.34%)\n",
            "\n",
            "The current learning rate is: [0.04]\n",
            "Epoch 34\n"
          ]
        },
        {
          "output_type": "stream",
          "name": "stderr",
          "text": [
            "Train: Loss=0.6944 Batch_id=195 Accuracy=81.53: 100%|██████████| 196/196 [00:04<00:00, 46.03it/s]\n"
          ]
        },
        {
          "output_type": "stream",
          "name": "stdout",
          "text": [
            "Test set: Average loss: 0.0020, Accuracy: 8287/10000 (82.87%)\n",
            "\n",
            "The current learning rate is: [0.04]\n",
            "Epoch 35\n"
          ]
        },
        {
          "output_type": "stream",
          "name": "stderr",
          "text": [
            "Train: Loss=0.5533 Batch_id=195 Accuracy=81.53: 100%|██████████| 196/196 [00:04<00:00, 48.13it/s]\n"
          ]
        },
        {
          "output_type": "stream",
          "name": "stdout",
          "text": [
            "Test set: Average loss: 0.0021, Accuracy: 8232/10000 (82.32%)\n",
            "\n",
            "The current learning rate is: [0.03]\n",
            "Epoch 36\n"
          ]
        },
        {
          "output_type": "stream",
          "name": "stderr",
          "text": [
            "Train: Loss=0.4348 Batch_id=195 Accuracy=81.73: 100%|██████████| 196/196 [00:04<00:00, 47.16it/s]\n"
          ]
        },
        {
          "output_type": "stream",
          "name": "stdout",
          "text": [
            "Test set: Average loss: 0.0020, Accuracy: 8288/10000 (82.88%)\n",
            "\n",
            "The current learning rate is: [0.03]\n",
            "Epoch 37\n"
          ]
        },
        {
          "output_type": "stream",
          "name": "stderr",
          "text": [
            "Train: Loss=0.4525 Batch_id=195 Accuracy=82.01: 100%|██████████| 196/196 [00:04<00:00, 47.14it/s]\n"
          ]
        },
        {
          "output_type": "stream",
          "name": "stdout",
          "text": [
            "Test set: Average loss: 0.0020, Accuracy: 8288/10000 (82.88%)\n",
            "\n",
            "The current learning rate is: [0.03]\n",
            "Epoch 38\n"
          ]
        },
        {
          "output_type": "stream",
          "name": "stderr",
          "text": [
            "Train: Loss=0.5803 Batch_id=195 Accuracy=82.20: 100%|██████████| 196/196 [00:04<00:00, 48.20it/s]\n"
          ]
        },
        {
          "output_type": "stream",
          "name": "stdout",
          "text": [
            "Test set: Average loss: 0.0021, Accuracy: 8256/10000 (82.56%)\n",
            "\n",
            "The current learning rate is: [0.03]\n",
            "Epoch 39\n"
          ]
        },
        {
          "output_type": "stream",
          "name": "stderr",
          "text": [
            "Train: Loss=0.3751 Batch_id=195 Accuracy=82.38: 100%|██████████| 196/196 [00:04<00:00, 45.82it/s]\n"
          ]
        },
        {
          "output_type": "stream",
          "name": "stdout",
          "text": [
            "Test set: Average loss: 0.0020, Accuracy: 8323/10000 (83.23%)\n",
            "\n",
            "The current learning rate is: [0.03]\n",
            "Epoch 40\n"
          ]
        },
        {
          "output_type": "stream",
          "name": "stderr",
          "text": [
            "Train: Loss=0.4192 Batch_id=195 Accuracy=82.51: 100%|██████████| 196/196 [00:04<00:00, 47.87it/s]\n"
          ]
        },
        {
          "output_type": "stream",
          "name": "stdout",
          "text": [
            "Test set: Average loss: 0.0020, Accuracy: 8322/10000 (83.22%)\n",
            "\n",
            "The current learning rate is: [0.02]\n",
            "Epoch 41\n"
          ]
        },
        {
          "output_type": "stream",
          "name": "stderr",
          "text": [
            "Train: Loss=0.5352 Batch_id=195 Accuracy=82.48: 100%|██████████| 196/196 [00:04<00:00, 45.67it/s]\n"
          ]
        },
        {
          "output_type": "stream",
          "name": "stdout",
          "text": [
            "Test set: Average loss: 0.0020, Accuracy: 8319/10000 (83.19%)\n",
            "\n",
            "The current learning rate is: [0.02]\n",
            "Epoch 42\n"
          ]
        },
        {
          "output_type": "stream",
          "name": "stderr",
          "text": [
            "Train: Loss=0.2405 Batch_id=195 Accuracy=82.77: 100%|██████████| 196/196 [00:04<00:00, 47.59it/s]\n"
          ]
        },
        {
          "output_type": "stream",
          "name": "stdout",
          "text": [
            "Test set: Average loss: 0.0020, Accuracy: 8325/10000 (83.25%)\n",
            "\n",
            "The current learning rate is: [0.02]\n",
            "Epoch 43\n"
          ]
        },
        {
          "output_type": "stream",
          "name": "stderr",
          "text": [
            "Train: Loss=0.6946 Batch_id=195 Accuracy=83.07: 100%|██████████| 196/196 [00:04<00:00, 48.14it/s]\n"
          ]
        },
        {
          "output_type": "stream",
          "name": "stdout",
          "text": [
            "Test set: Average loss: 0.0020, Accuracy: 8337/10000 (83.37%)\n",
            "\n",
            "The current learning rate is: [0.02]\n",
            "Epoch 44\n"
          ]
        },
        {
          "output_type": "stream",
          "name": "stderr",
          "text": [
            "Train: Loss=0.5618 Batch_id=195 Accuracy=83.08: 100%|██████████| 196/196 [00:04<00:00, 46.60it/s]\n"
          ]
        },
        {
          "output_type": "stream",
          "name": "stdout",
          "text": [
            "Test set: Average loss: 0.0020, Accuracy: 8351/10000 (83.51%)\n",
            "\n",
            "The current learning rate is: [0.02]\n",
            "Epoch 45\n"
          ]
        },
        {
          "output_type": "stream",
          "name": "stderr",
          "text": [
            "Train: Loss=0.3447 Batch_id=195 Accuracy=83.35: 100%|██████████| 196/196 [00:04<00:00, 47.27it/s]\n"
          ]
        },
        {
          "output_type": "stream",
          "name": "stdout",
          "text": [
            "Test set: Average loss: 0.0019, Accuracy: 8354/10000 (83.54%)\n",
            "\n",
            "The current learning rate is: [0.02]\n",
            "Epoch 46\n"
          ]
        },
        {
          "output_type": "stream",
          "name": "stderr",
          "text": [
            "Train: Loss=0.4639 Batch_id=195 Accuracy=83.40: 100%|██████████| 196/196 [00:04<00:00, 44.72it/s]\n"
          ]
        },
        {
          "output_type": "stream",
          "name": "stdout",
          "text": [
            "Test set: Average loss: 0.0019, Accuracy: 8367/10000 (83.67%)\n",
            "\n",
            "The current learning rate is: [0.02]\n",
            "Epoch 47\n"
          ]
        },
        {
          "output_type": "stream",
          "name": "stderr",
          "text": [
            "Train: Loss=0.4311 Batch_id=195 Accuracy=83.61: 100%|██████████| 196/196 [00:04<00:00, 46.02it/s]\n"
          ]
        },
        {
          "output_type": "stream",
          "name": "stdout",
          "text": [
            "Test set: Average loss: 0.0019, Accuracy: 8371/10000 (83.71%)\n",
            "\n",
            "The current learning rate is: [0.02]\n",
            "Epoch 48\n"
          ]
        },
        {
          "output_type": "stream",
          "name": "stderr",
          "text": [
            "Train: Loss=0.4676 Batch_id=195 Accuracy=83.75: 100%|██████████| 196/196 [00:04<00:00, 46.29it/s]\n"
          ]
        },
        {
          "output_type": "stream",
          "name": "stdout",
          "text": [
            "Test set: Average loss: 0.0019, Accuracy: 8379/10000 (83.79%)\n",
            "\n",
            "The current learning rate is: [0.02]\n",
            "Epoch 49\n"
          ]
        },
        {
          "output_type": "stream",
          "name": "stderr",
          "text": [
            "Train: Loss=0.4282 Batch_id=195 Accuracy=83.95: 100%|██████████| 196/196 [00:04<00:00, 46.46it/s]\n"
          ]
        },
        {
          "output_type": "stream",
          "name": "stdout",
          "text": [
            "Test set: Average loss: 0.0019, Accuracy: 8352/10000 (83.52%)\n",
            "\n",
            "The current learning rate is: [0.02]\n",
            "Epoch 50\n"
          ]
        },
        {
          "output_type": "stream",
          "name": "stderr",
          "text": [
            "Train: Loss=0.6603 Batch_id=195 Accuracy=83.59: 100%|██████████| 196/196 [00:04<00:00, 48.02it/s]\n"
          ]
        },
        {
          "output_type": "stream",
          "name": "stdout",
          "text": [
            "Test set: Average loss: 0.0020, Accuracy: 8381/10000 (83.81%)\n",
            "\n",
            "The current learning rate is: [0.01]\n",
            "Epoch 51\n"
          ]
        },
        {
          "output_type": "stream",
          "name": "stderr",
          "text": [
            "Train: Loss=0.4440 Batch_id=195 Accuracy=83.96: 100%|██████████| 196/196 [00:04<00:00, 46.45it/s]\n"
          ]
        },
        {
          "output_type": "stream",
          "name": "stdout",
          "text": [
            "Test set: Average loss: 0.0019, Accuracy: 8405/10000 (84.05%)\n",
            "\n",
            "The current learning rate is: [0.01]\n",
            "Epoch 52\n"
          ]
        },
        {
          "output_type": "stream",
          "name": "stderr",
          "text": [
            "Train: Loss=0.6869 Batch_id=195 Accuracy=83.82: 100%|██████████| 196/196 [00:04<00:00, 47.11it/s]\n"
          ]
        },
        {
          "output_type": "stream",
          "name": "stdout",
          "text": [
            "Test set: Average loss: 0.0019, Accuracy: 8406/10000 (84.06%)\n",
            "\n",
            "The current learning rate is: [0.01]\n",
            "Epoch 53\n"
          ]
        },
        {
          "output_type": "stream",
          "name": "stderr",
          "text": [
            "Train: Loss=0.4787 Batch_id=195 Accuracy=84.11: 100%|██████████| 196/196 [00:04<00:00, 46.34it/s]\n"
          ]
        },
        {
          "output_type": "stream",
          "name": "stdout",
          "text": [
            "Test set: Average loss: 0.0019, Accuracy: 8403/10000 (84.03%)\n",
            "\n",
            "The current learning rate is: [0.01]\n",
            "Epoch 54\n"
          ]
        },
        {
          "output_type": "stream",
          "name": "stderr",
          "text": [
            "Train: Loss=0.2704 Batch_id=195 Accuracy=84.27: 100%|██████████| 196/196 [00:04<00:00, 46.63it/s]\n"
          ]
        },
        {
          "output_type": "stream",
          "name": "stdout",
          "text": [
            "Test set: Average loss: 0.0019, Accuracy: 8433/10000 (84.33%)\n",
            "\n",
            "The current learning rate is: [0.01]\n",
            "Epoch 55\n"
          ]
        },
        {
          "output_type": "stream",
          "name": "stderr",
          "text": [
            "Train: Loss=0.3194 Batch_id=195 Accuracy=84.15: 100%|██████████| 196/196 [00:04<00:00, 46.77it/s]\n"
          ]
        },
        {
          "output_type": "stream",
          "name": "stdout",
          "text": [
            "Test set: Average loss: 0.0019, Accuracy: 8389/10000 (83.89%)\n",
            "\n",
            "The current learning rate is: [0.01]\n",
            "Epoch 56\n"
          ]
        },
        {
          "output_type": "stream",
          "name": "stderr",
          "text": [
            "Train: Loss=0.3894 Batch_id=195 Accuracy=84.20: 100%|██████████| 196/196 [00:04<00:00, 45.68it/s]\n"
          ]
        },
        {
          "output_type": "stream",
          "name": "stdout",
          "text": [
            "Test set: Average loss: 0.0019, Accuracy: 8425/10000 (84.25%)\n",
            "\n",
            "The current learning rate is: [0.01]\n",
            "Epoch 57\n"
          ]
        },
        {
          "output_type": "stream",
          "name": "stderr",
          "text": [
            "Train: Loss=0.5191 Batch_id=195 Accuracy=84.56: 100%|██████████| 196/196 [00:04<00:00, 46.65it/s]\n"
          ]
        },
        {
          "output_type": "stream",
          "name": "stdout",
          "text": [
            "Test set: Average loss: 0.0019, Accuracy: 8408/10000 (84.08%)\n",
            "\n",
            "The current learning rate is: [0.01]\n",
            "Epoch 58\n"
          ]
        },
        {
          "output_type": "stream",
          "name": "stderr",
          "text": [
            "Train: Loss=0.3856 Batch_id=195 Accuracy=84.40: 100%|██████████| 196/196 [00:04<00:00, 46.32it/s]\n"
          ]
        },
        {
          "output_type": "stream",
          "name": "stdout",
          "text": [
            "Test set: Average loss: 0.0019, Accuracy: 8427/10000 (84.27%)\n",
            "\n",
            "The current learning rate is: [0.01]\n",
            "Epoch 59\n"
          ]
        },
        {
          "output_type": "stream",
          "name": "stderr",
          "text": [
            "Train: Loss=0.2849 Batch_id=195 Accuracy=84.50: 100%|██████████| 196/196 [00:04<00:00, 46.43it/s]\n"
          ]
        },
        {
          "output_type": "stream",
          "name": "stdout",
          "text": [
            "Test set: Average loss: 0.0019, Accuracy: 8446/10000 (84.46%)\n",
            "\n",
            "The current learning rate is: [0.01]\n",
            "Epoch 60\n"
          ]
        },
        {
          "output_type": "stream",
          "name": "stderr",
          "text": [
            "Train: Loss=0.4560 Batch_id=195 Accuracy=84.56: 100%|██████████| 196/196 [00:04<00:00, 47.14it/s]\n"
          ]
        },
        {
          "output_type": "stream",
          "name": "stdout",
          "text": [
            "Test set: Average loss: 0.0019, Accuracy: 8420/10000 (84.20%)\n",
            "\n",
            "The current learning rate is: [0.01]\n",
            "Epoch 61\n"
          ]
        },
        {
          "output_type": "stream",
          "name": "stderr",
          "text": [
            "Train: Loss=0.6739 Batch_id=195 Accuracy=84.80: 100%|██████████| 196/196 [00:04<00:00, 47.03it/s]\n"
          ]
        },
        {
          "output_type": "stream",
          "name": "stdout",
          "text": [
            "Test set: Average loss: 0.0019, Accuracy: 8422/10000 (84.22%)\n",
            "\n",
            "The current learning rate is: [0.01]\n",
            "Epoch 62\n"
          ]
        },
        {
          "output_type": "stream",
          "name": "stderr",
          "text": [
            "Train: Loss=0.4392 Batch_id=195 Accuracy=84.64: 100%|██████████| 196/196 [00:04<00:00, 47.06it/s]\n"
          ]
        },
        {
          "output_type": "stream",
          "name": "stdout",
          "text": [
            "Test set: Average loss: 0.0019, Accuracy: 8448/10000 (84.48%)\n",
            "\n",
            "The current learning rate is: [0.01]\n",
            "Epoch 63\n"
          ]
        },
        {
          "output_type": "stream",
          "name": "stderr",
          "text": [
            "Train: Loss=0.5522 Batch_id=195 Accuracy=84.63: 100%|██████████| 196/196 [00:04<00:00, 44.85it/s]\n"
          ]
        },
        {
          "output_type": "stream",
          "name": "stdout",
          "text": [
            "Test set: Average loss: 0.0019, Accuracy: 8436/10000 (84.36%)\n",
            "\n",
            "The current learning rate is: [0.01]\n",
            "Epoch 64\n"
          ]
        },
        {
          "output_type": "stream",
          "name": "stderr",
          "text": [
            "Train: Loss=0.4467 Batch_id=195 Accuracy=84.68: 100%|██████████| 196/196 [00:04<00:00, 46.31it/s]\n"
          ]
        },
        {
          "output_type": "stream",
          "name": "stdout",
          "text": [
            "Test set: Average loss: 0.0020, Accuracy: 8456/10000 (84.56%)\n",
            "\n",
            "The current learning rate is: [0.01]\n",
            "Epoch 65\n"
          ]
        },
        {
          "output_type": "stream",
          "name": "stderr",
          "text": [
            "Train: Loss=0.5645 Batch_id=195 Accuracy=84.52: 100%|██████████| 196/196 [00:04<00:00, 45.75it/s]\n"
          ]
        },
        {
          "output_type": "stream",
          "name": "stdout",
          "text": [
            "Test set: Average loss: 0.0019, Accuracy: 8445/10000 (84.45%)\n",
            "\n",
            "The current learning rate is: [0.0]\n",
            "Epoch 66\n"
          ]
        },
        {
          "output_type": "stream",
          "name": "stderr",
          "text": [
            "Train: Loss=0.4054 Batch_id=195 Accuracy=84.89: 100%|██████████| 196/196 [00:04<00:00, 47.51it/s]\n"
          ]
        },
        {
          "output_type": "stream",
          "name": "stdout",
          "text": [
            "Test set: Average loss: 0.0019, Accuracy: 8447/10000 (84.47%)\n",
            "\n",
            "The current learning rate is: [0.0]\n",
            "Epoch 67\n"
          ]
        },
        {
          "output_type": "stream",
          "name": "stderr",
          "text": [
            "Train: Loss=0.4485 Batch_id=195 Accuracy=84.91: 100%|██████████| 196/196 [00:04<00:00, 47.57it/s]\n"
          ]
        },
        {
          "output_type": "stream",
          "name": "stdout",
          "text": [
            "Test set: Average loss: 0.0019, Accuracy: 8460/10000 (84.60%)\n",
            "\n",
            "The current learning rate is: [0.0]\n",
            "Epoch 68\n"
          ]
        },
        {
          "output_type": "stream",
          "name": "stderr",
          "text": [
            "Train: Loss=0.3299 Batch_id=195 Accuracy=84.91: 100%|██████████| 196/196 [00:04<00:00, 46.05it/s]\n"
          ]
        },
        {
          "output_type": "stream",
          "name": "stdout",
          "text": [
            "Test set: Average loss: 0.0019, Accuracy: 8431/10000 (84.31%)\n",
            "\n",
            "The current learning rate is: [0.0]\n",
            "Epoch 69\n"
          ]
        },
        {
          "output_type": "stream",
          "name": "stderr",
          "text": [
            "Train: Loss=0.4229 Batch_id=195 Accuracy=84.82: 100%|██████████| 196/196 [00:04<00:00, 47.99it/s]\n"
          ]
        },
        {
          "output_type": "stream",
          "name": "stdout",
          "text": [
            "Test set: Average loss: 0.0018, Accuracy: 8444/10000 (84.44%)\n",
            "\n",
            "The current learning rate is: [0.0]\n",
            "Epoch 70\n"
          ]
        },
        {
          "output_type": "stream",
          "name": "stderr",
          "text": [
            "Train: Loss=0.5376 Batch_id=195 Accuracy=85.01: 100%|██████████| 196/196 [00:04<00:00, 46.86it/s]\n"
          ]
        },
        {
          "output_type": "stream",
          "name": "stdout",
          "text": [
            "Test set: Average loss: 0.0018, Accuracy: 8455/10000 (84.55%)\n",
            "\n",
            "The current learning rate is: [0.0]\n",
            "Epoch 71\n"
          ]
        },
        {
          "output_type": "stream",
          "name": "stderr",
          "text": [
            "Train: Loss=0.3528 Batch_id=195 Accuracy=84.93: 100%|██████████| 196/196 [00:04<00:00, 47.11it/s]\n"
          ]
        },
        {
          "output_type": "stream",
          "name": "stdout",
          "text": [
            "Test set: Average loss: 0.0018, Accuracy: 8446/10000 (84.46%)\n",
            "\n",
            "The current learning rate is: [0.0]\n",
            "Epoch 72\n"
          ]
        },
        {
          "output_type": "stream",
          "name": "stderr",
          "text": [
            "Train: Loss=0.4746 Batch_id=195 Accuracy=84.91: 100%|██████████| 196/196 [00:04<00:00, 47.24it/s]\n"
          ]
        },
        {
          "output_type": "stream",
          "name": "stdout",
          "text": [
            "Test set: Average loss: 0.0019, Accuracy: 8430/10000 (84.30%)\n",
            "\n",
            "The current learning rate is: [0.0]\n",
            "Epoch 73\n"
          ]
        },
        {
          "output_type": "stream",
          "name": "stderr",
          "text": [
            "Train: Loss=0.4993 Batch_id=195 Accuracy=85.41: 100%|██████████| 196/196 [00:04<00:00, 47.57it/s]\n"
          ]
        },
        {
          "output_type": "stream",
          "name": "stdout",
          "text": [
            "Test set: Average loss: 0.0019, Accuracy: 8458/10000 (84.58%)\n",
            "\n",
            "The current learning rate is: [0.0]\n",
            "Epoch 74\n"
          ]
        },
        {
          "output_type": "stream",
          "name": "stderr",
          "text": [
            "Train: Loss=0.4294 Batch_id=195 Accuracy=84.85: 100%|██████████| 196/196 [00:04<00:00, 47.53it/s]\n"
          ]
        },
        {
          "output_type": "stream",
          "name": "stdout",
          "text": [
            "Test set: Average loss: 0.0018, Accuracy: 8474/10000 (84.74%)\n",
            "\n",
            "The current learning rate is: [0.0]\n",
            "Epoch 75\n"
          ]
        },
        {
          "output_type": "stream",
          "name": "stderr",
          "text": [
            "Train: Loss=0.4569 Batch_id=195 Accuracy=84.92: 100%|██████████| 196/196 [00:04<00:00, 46.88it/s]\n"
          ]
        },
        {
          "output_type": "stream",
          "name": "stdout",
          "text": [
            "Test set: Average loss: 0.0019, Accuracy: 8454/10000 (84.54%)\n",
            "\n",
            "The current learning rate is: [0.0]\n",
            "Epoch 76\n"
          ]
        },
        {
          "output_type": "stream",
          "name": "stderr",
          "text": [
            "Train: Loss=0.5524 Batch_id=195 Accuracy=85.16: 100%|██████████| 196/196 [00:04<00:00, 47.99it/s]\n"
          ]
        },
        {
          "output_type": "stream",
          "name": "stdout",
          "text": [
            "Test set: Average loss: 0.0019, Accuracy: 8447/10000 (84.47%)\n",
            "\n",
            "The current learning rate is: [0.0]\n",
            "Epoch 77\n"
          ]
        },
        {
          "output_type": "stream",
          "name": "stderr",
          "text": [
            "Train: Loss=0.3558 Batch_id=195 Accuracy=85.17: 100%|██████████| 196/196 [00:04<00:00, 46.38it/s]\n"
          ]
        },
        {
          "output_type": "stream",
          "name": "stdout",
          "text": [
            "Test set: Average loss: 0.0019, Accuracy: 8458/10000 (84.58%)\n",
            "\n",
            "The current learning rate is: [0.0]\n",
            "Epoch 78\n"
          ]
        },
        {
          "output_type": "stream",
          "name": "stderr",
          "text": [
            "Train: Loss=0.4755 Batch_id=195 Accuracy=85.06: 100%|██████████| 196/196 [00:04<00:00, 47.37it/s]\n"
          ]
        },
        {
          "output_type": "stream",
          "name": "stdout",
          "text": [
            "Test set: Average loss: 0.0018, Accuracy: 8450/10000 (84.50%)\n",
            "\n",
            "The current learning rate is: [0.0]\n",
            "Epoch 79\n"
          ]
        },
        {
          "output_type": "stream",
          "name": "stderr",
          "text": [
            "Train: Loss=0.4428 Batch_id=195 Accuracy=85.22: 100%|██████████| 196/196 [00:04<00:00, 47.61it/s]\n"
          ]
        },
        {
          "output_type": "stream",
          "name": "stdout",
          "text": [
            "Test set: Average loss: 0.0019, Accuracy: 8442/10000 (84.42%)\n",
            "\n",
            "The current learning rate is: [0.0]\n",
            "Epoch 80\n"
          ]
        },
        {
          "output_type": "stream",
          "name": "stderr",
          "text": [
            "Train: Loss=0.3016 Batch_id=195 Accuracy=85.39: 100%|██████████| 196/196 [00:04<00:00, 44.86it/s]\n"
          ]
        },
        {
          "output_type": "stream",
          "name": "stdout",
          "text": [
            "Test set: Average loss: 0.0019, Accuracy: 8459/10000 (84.59%)\n",
            "\n",
            "The current learning rate is: [0.0]\n"
          ]
        }
      ]
    },
    {
      "cell_type": "markdown",
      "source": [
        "# Code Block 7"
      ],
      "metadata": {
        "id": "_Gz_-RugFTlN"
      }
    },
    {
      "cell_type": "code",
      "source": [
        "post_accuracyplots(train_losses,test_losses,train_acc,test_acc)"
      ],
      "metadata": {
        "id": "oyEjcq1liNiA",
        "colab": {
          "base_uri": "https://localhost:8080/",
          "height": 854
        },
        "outputId": "62bb66ae-1409-4b00-d3dc-27da72a57500"
      },
      "execution_count": 7,
      "outputs": [
        {
          "output_type": "display_data",
          "data": {
            "text/plain": [
              "<Figure size 1500x1000 with 4 Axes>"
            ],
            "image/png": "[encoded data removed]"
          },
          "metadata": {}
        }
      ]
    },
    {
      "cell_type": "code",
      "source": [],
      "metadata": {
        "id": "7mFigdyjzOgS"
      },
      "execution_count": 7,
      "outputs": []
    }
  ]
}