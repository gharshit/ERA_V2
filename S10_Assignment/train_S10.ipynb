{
  "nbformat": 4,
  "nbformat_minor": 0,
  "metadata": {
    "colab": {
      "provenance": [],
      "machine_shape": "hm",
      "gpuType": "L4"
    },
    "kernelspec": {
      "name": "python3",
      "display_name": "Python 3"
    },
    "language_info": {
      "name": "python"
    },
    "accelerator": "GPU",
    "widgets": {
      "application/vnd.jupyter.widget-state+json": {
        "9bf69f5aa12447799f0e1d796cf4c8b1": {
          "model_module": "@jupyter-widgets/controls",
          "model_name": "HBoxModel",
          "model_module_version": "1.5.0",
          "state": {
            "_dom_classes": [],
            "_model_module": "@jupyter-widgets/controls",
            "_model_module_version": "1.5.0",
            "_model_name": "HBoxModel",
            "_view_count": null,
            "_view_module": "@jupyter-widgets/controls",
            "_view_module_version": "1.5.0",
            "_view_name": "HBoxView",
            "box_style": "",
            "children": [
              "IPY_MODEL_00ddfda4ae804eb488d5f2ec35b78466",
              "IPY_MODEL_6ded3f3388804a82a07b30af943a9cbd",
              "IPY_MODEL_ecd6e8e8dbc4419181de03202be744eb"
            ],
            "layout": "IPY_MODEL_ef708b06caa64bd7a4d082ef2f4ea9bd"
          }
        },
        "00ddfda4ae804eb488d5f2ec35b78466": {
          "model_module": "@jupyter-widgets/controls",
          "model_name": "HTMLModel",
          "model_module_version": "1.5.0",
          "state": {
            "_dom_classes": [],
            "_model_module": "@jupyter-widgets/controls",
            "_model_module_version": "1.5.0",
            "_model_name": "HTMLModel",
            "_view_count": null,
            "_view_module": "@jupyter-widgets/controls",
            "_view_module_version": "1.5.0",
            "_view_name": "HTMLView",
            "description": "",
            "description_tooltip": null,
            "layout": "IPY_MODEL_648ca758603f4247aa9a11e9ddcf6e16",
            "placeholder": "​",
            "style": "IPY_MODEL_e4fe54c3b6434808b387dee9eda23e2d",
            "value": " 91%"
          }
        },
        "6ded3f3388804a82a07b30af943a9cbd": {
          "model_module": "@jupyter-widgets/controls",
          "model_name": "FloatProgressModel",
          "model_module_version": "1.5.0",
          "state": {
            "_dom_classes": [],
            "_model_module": "@jupyter-widgets/controls",
            "_model_module_version": "1.5.0",
            "_model_name": "FloatProgressModel",
            "_view_count": null,
            "_view_module": "@jupyter-widgets/controls",
            "_view_module_version": "1.5.0",
            "_view_name": "ProgressView",
            "bar_style": "danger",
            "description": "",
            "description_tooltip": null,
            "layout": "IPY_MODEL_aa652677ac8e48cc9035754d8c59ce72",
            "max": 200,
            "min": 0,
            "orientation": "horizontal",
            "style": "IPY_MODEL_9356b7771ccc40498f87dc992f11604c",
            "value": 182
          }
        },
        "ecd6e8e8dbc4419181de03202be744eb": {
          "model_module": "@jupyter-widgets/controls",
          "model_name": "HTMLModel",
          "model_module_version": "1.5.0",
          "state": {
            "_dom_classes": [],
            "_model_module": "@jupyter-widgets/controls",
            "_model_module_version": "1.5.0",
            "_model_name": "HTMLModel",
            "_view_count": null,
            "_view_module": "@jupyter-widgets/controls",
            "_view_module_version": "1.5.0",
            "_view_name": "HTMLView",
            "description": "",
            "description_tooltip": null,
            "layout": "IPY_MODEL_60928d54d5c24947a5e88fbff38213aa",
            "placeholder": "​",
            "style": "IPY_MODEL_67fd991a3819408e8d36de4dc16900c8",
            "value": " 182/200 [00:19&lt;00:01,  9.84it/s]"
          }
        },
        "ef708b06caa64bd7a4d082ef2f4ea9bd": {
          "model_module": "@jupyter-widgets/base",
          "model_name": "LayoutModel",
          "model_module_version": "1.2.0",
          "state": {
            "_model_module": "@jupyter-widgets/base",
            "_model_module_version": "1.2.0",
            "_model_name": "LayoutModel",
            "_view_count": null,
            "_view_module": "@jupyter-widgets/base",
            "_view_module_version": "1.2.0",
            "_view_name": "LayoutView",
            "align_content": null,
            "align_items": null,
            "align_self": null,
            "border": null,
            "bottom": null,
            "display": null,
            "flex": null,
            "flex_flow": null,
            "grid_area": null,
            "grid_auto_columns": null,
            "grid_auto_flow": null,
            "grid_auto_rows": null,
            "grid_column": null,
            "grid_gap": null,
            "grid_row": null,
            "grid_template_areas": null,
            "grid_template_columns": null,
            "grid_template_rows": null,
            "height": null,
            "justify_content": null,
            "justify_items": null,
            "left": null,
            "margin": null,
            "max_height": null,
            "max_width": null,
            "min_height": null,
            "min_width": null,
            "object_fit": null,
            "object_position": null,
            "order": null,
            "overflow": null,
            "overflow_x": null,
            "overflow_y": null,
            "padding": null,
            "right": null,
            "top": null,
            "visibility": null,
            "width": null
          }
        },
        "648ca758603f4247aa9a11e9ddcf6e16": {
          "model_module": "@jupyter-widgets/base",
          "model_name": "LayoutModel",
          "model_module_version": "1.2.0",
          "state": {
            "_model_module": "@jupyter-widgets/base",
            "_model_module_version": "1.2.0",
            "_model_name": "LayoutModel",
            "_view_count": null,
            "_view_module": "@jupyter-widgets/base",
            "_view_module_version": "1.2.0",
            "_view_name": "LayoutView",
            "align_content": null,
            "align_items": null,
            "align_self": null,
            "border": null,
            "bottom": null,
            "display": null,
            "flex": null,
            "flex_flow": null,
            "grid_area": null,
            "grid_auto_columns": null,
            "grid_auto_flow": null,
            "grid_auto_rows": null,
            "grid_column": null,
            "grid_gap": null,
            "grid_row": null,
            "grid_template_areas": null,
            "grid_template_columns": null,
            "grid_template_rows": null,
            "height": null,
            "justify_content": null,
            "justify_items": null,
            "left": null,
            "margin": null,
            "max_height": null,
            "max_width": null,
            "min_height": null,
            "min_width": null,
            "object_fit": null,
            "object_position": null,
            "order": null,
            "overflow": null,
            "overflow_x": null,
            "overflow_y": null,
            "padding": null,
            "right": null,
            "top": null,
            "visibility": null,
            "width": null
          }
        },
        "e4fe54c3b6434808b387dee9eda23e2d": {
          "model_module": "@jupyter-widgets/controls",
          "model_name": "DescriptionStyleModel",
          "model_module_version": "1.5.0",
          "state": {
            "_model_module": "@jupyter-widgets/controls",
            "_model_module_version": "1.5.0",
            "_model_name": "DescriptionStyleModel",
            "_view_count": null,
            "_view_module": "@jupyter-widgets/base",
            "_view_module_version": "1.2.0",
            "_view_name": "StyleView",
            "description_width": ""
          }
        },
        "aa652677ac8e48cc9035754d8c59ce72": {
          "model_module": "@jupyter-widgets/base",
          "model_name": "LayoutModel",
          "model_module_version": "1.2.0",
          "state": {
            "_model_module": "@jupyter-widgets/base",
            "_model_module_version": "1.2.0",
            "_model_name": "LayoutModel",
            "_view_count": null,
            "_view_module": "@jupyter-widgets/base",
            "_view_module_version": "1.2.0",
            "_view_name": "LayoutView",
            "align_content": null,
            "align_items": null,
            "align_self": null,
            "border": null,
            "bottom": null,
            "display": null,
            "flex": null,
            "flex_flow": null,
            "grid_area": null,
            "grid_auto_columns": null,
            "grid_auto_flow": null,
            "grid_auto_rows": null,
            "grid_column": null,
            "grid_gap": null,
            "grid_row": null,
            "grid_template_areas": null,
            "grid_template_columns": null,
            "grid_template_rows": null,
            "height": null,
            "justify_content": null,
            "justify_items": null,
            "left": null,
            "margin": null,
            "max_height": null,
            "max_width": null,
            "min_height": null,
            "min_width": null,
            "object_fit": null,
            "object_position": null,
            "order": null,
            "overflow": null,
            "overflow_x": null,
            "overflow_y": null,
            "padding": null,
            "right": null,
            "top": null,
            "visibility": null,
            "width": null
          }
        },
        "9356b7771ccc40498f87dc992f11604c": {
          "model_module": "@jupyter-widgets/controls",
          "model_name": "ProgressStyleModel",
          "model_module_version": "1.5.0",
          "state": {
            "_model_module": "@jupyter-widgets/controls",
            "_model_module_version": "1.5.0",
            "_model_name": "ProgressStyleModel",
            "_view_count": null,
            "_view_module": "@jupyter-widgets/base",
            "_view_module_version": "1.2.0",
            "_view_name": "StyleView",
            "bar_color": null,
            "description_width": ""
          }
        },
        "60928d54d5c24947a5e88fbff38213aa": {
          "model_module": "@jupyter-widgets/base",
          "model_name": "LayoutModel",
          "model_module_version": "1.2.0",
          "state": {
            "_model_module": "@jupyter-widgets/base",
            "_model_module_version": "1.2.0",
            "_model_name": "LayoutModel",
            "_view_count": null,
            "_view_module": "@jupyter-widgets/base",
            "_view_module_version": "1.2.0",
            "_view_name": "LayoutView",
            "align_content": null,
            "align_items": null,
            "align_self": null,
            "border": null,
            "bottom": null,
            "display": null,
            "flex": null,
            "flex_flow": null,
            "grid_area": null,
            "grid_auto_columns": null,
            "grid_auto_flow": null,
            "grid_auto_rows": null,
            "grid_column": null,
            "grid_gap": null,
            "grid_row": null,
            "grid_template_areas": null,
            "grid_template_columns": null,
            "grid_template_rows": null,
            "height": null,
            "justify_content": null,
            "justify_items": null,
            "left": null,
            "margin": null,
            "max_height": null,
            "max_width": null,
            "min_height": null,
            "min_width": null,
            "object_fit": null,
            "object_position": null,
            "order": null,
            "overflow": null,
            "overflow_x": null,
            "overflow_y": null,
            "padding": null,
            "right": null,
            "top": null,
            "visibility": null,
            "width": null
          }
        },
        "67fd991a3819408e8d36de4dc16900c8": {
          "model_module": "@jupyter-widgets/controls",
          "model_name": "DescriptionStyleModel",
          "model_module_version": "1.5.0",
          "state": {
            "_model_module": "@jupyter-widgets/controls",
            "_model_module_version": "1.5.0",
            "_model_name": "DescriptionStyleModel",
            "_view_count": null,
            "_view_module": "@jupyter-widgets/base",
            "_view_module_version": "1.2.0",
            "_view_name": "StyleView",
            "description_width": ""
          }
        }
      }
    }
  },
  "cells": [
    {
      "cell_type": "markdown",
      "source": [
        "## Code Block 0"
      ],
      "metadata": {
        "id": "FXjlig3tnDFp"
      }
    },
    {
      "cell_type": "code",
      "execution_count": 2,
      "metadata": {
        "colab": {
          "base_uri": "https://localhost:8080/"
        },
        "id": "2xHskeYfmqgo",
        "outputId": "27379d5a-2f17-4dc2-8912-3034ec030c85"
      },
      "outputs": [
        {
          "output_type": "stream",
          "name": "stdout",
          "text": [
            "remote: Enumerating objects: 5, done.\u001b[K\n",
            "remote: Counting objects:  20% (1/5)\u001b[K\rremote: Counting objects:  40% (2/5)\u001b[K\rremote: Counting objects:  60% (3/5)\u001b[K\rremote: Counting objects:  80% (4/5)\u001b[K\rremote: Counting objects: 100% (5/5)\u001b[K\rremote: Counting objects: 100% (5/5), done.\u001b[K\n",
            "remote: Compressing objects:  33% (1/3)\u001b[K\rremote: Compressing objects:  66% (2/3)\u001b[K\rremote: Compressing objects: 100% (3/3)\u001b[K\rremote: Compressing objects: 100% (3/3), done.\u001b[K\n",
            "remote: Total 3 (delta 2), reused 0 (delta 0), pack-reused 0\u001b[K\n",
            "Unpacking objects:  33% (1/3)\rUnpacking objects:  66% (2/3)\rUnpacking objects: 100% (3/3)\rUnpacking objects: 100% (3/3), 950 bytes | 950.00 KiB/s, done.\n",
            "From https://github.com/gharshit/ERA_MasterCodes\n",
            "   867c9b6..b73b58a  main       -> origin/main\n",
            "Updating 867c9b6..b73b58a\n",
            "Fast-forward\n",
            " main.py | 2 \u001b[32m++\u001b[m\n",
            " 1 file changed, 2 insertions(+)\n"
          ]
        }
      ],
      "source": [
        "# #Clone master code repo\n",
        "# !pip install torch-lr-finder\n",
        "# !git clone https://github.com/gharshit/ERA_MasterCodes.git\n",
        "# import os\n",
        "# os.chdir('/content/ERA_MasterCodes')\n",
        "!git pull"
      ]
    },
    {
      "cell_type": "markdown",
      "source": [
        "## Code Block 1"
      ],
      "metadata": {
        "id": "CMhqOKz11AD_"
      }
    },
    {
      "cell_type": "code",
      "source": [
        "%run main.py"
      ],
      "metadata": {
        "colab": {
          "base_uri": "https://localhost:8080/"
        },
        "id": "9n2iC0Cenkf0",
        "outputId": "6f0f277b-6267-4efc-c386-fdf9203113ed"
      },
      "execution_count": 3,
      "outputs": [
        {
          "output_type": "stream",
          "name": "stdout",
          "text": [
            "\n",
            "Device set to:  cuda\n",
            "Hyperparamaters & Methods Initialzed... \n",
            "\n",
            "Downloading https://www.cs.toronto.edu/~kriz/cifar-10-python.tar.gz to ../data/cifar-10-python.tar.gz\n"
          ]
        },
        {
          "output_type": "stream",
          "name": "stderr",
          "text": [
            "100%|██████████| 170498071/170498071 [00:03<00:00, 43868567.99it/s]\n"
          ]
        },
        {
          "output_type": "stream",
          "name": "stdout",
          "text": [
            "Extracting ../data/cifar-10-python.tar.gz to ../data\n",
            "Testing data loaded successfully. Shape of data:  (10000, 32, 32, 3)\n",
            "Files already downloaded and verified\n",
            "Training data loaded successfully. Shape of data:  (50000, 32, 32, 3)\n",
            "Dataset loaded...\n",
            "\n"
          ]
        }
      ]
    },
    {
      "cell_type": "markdown",
      "source": [
        "## Code Block 2"
      ],
      "metadata": {
        "id": "-4PMzD4s1DpZ"
      }
    },
    {
      "cell_type": "code",
      "source": [
        "# Initialize the model\n",
        "S10assignment.loadmymodel()"
      ],
      "metadata": {
        "colab": {
          "base_uri": "https://localhost:8080/"
        },
        "id": "Irflh9AQpovD",
        "outputId": "1dee780d-f691-4f00-8efa-4cb06586f0d2"
      },
      "execution_count": 4,
      "outputs": [
        {
          "output_type": "stream",
          "name": "stdout",
          "text": [
            "Model Initialized. Below is the summary...\n",
            "\n",
            "----------------------------------------------------------------\n",
            "        Layer (type)               Output Shape         Param #\n",
            "================================================================\n",
            "            Conv2d-1           [-1, 64, 32, 32]           1,728\n",
            "       BatchNorm2d-2           [-1, 64, 32, 32]             128\n",
            "              ReLU-3           [-1, 64, 32, 32]               0\n",
            "           Dropout-4           [-1, 64, 32, 32]               0\n",
            "            Conv2d-5          [-1, 128, 32, 32]          73,728\n",
            "         MaxPool2d-6          [-1, 128, 16, 16]               0\n",
            "       BatchNorm2d-7          [-1, 128, 16, 16]             256\n",
            "              ReLU-8          [-1, 128, 16, 16]               0\n",
            "           Dropout-9          [-1, 128, 16, 16]               0\n",
            "           Conv2d-10          [-1, 128, 16, 16]         147,456\n",
            "      BatchNorm2d-11          [-1, 128, 16, 16]             256\n",
            "             ReLU-12          [-1, 128, 16, 16]               0\n",
            "          Dropout-13          [-1, 128, 16, 16]               0\n",
            "           Conv2d-14          [-1, 128, 16, 16]         147,456\n",
            "      BatchNorm2d-15          [-1, 128, 16, 16]             256\n",
            "             ReLU-16          [-1, 128, 16, 16]               0\n",
            "          Dropout-17          [-1, 128, 16, 16]               0\n",
            "           Conv2d-18          [-1, 256, 16, 16]         294,912\n",
            "        MaxPool2d-19            [-1, 256, 8, 8]               0\n",
            "      BatchNorm2d-20            [-1, 256, 8, 8]             512\n",
            "             ReLU-21            [-1, 256, 8, 8]               0\n",
            "          Dropout-22            [-1, 256, 8, 8]               0\n",
            "           Conv2d-23            [-1, 512, 8, 8]       1,179,648\n",
            "        MaxPool2d-24            [-1, 512, 4, 4]               0\n",
            "      BatchNorm2d-25            [-1, 512, 4, 4]           1,024\n",
            "             ReLU-26            [-1, 512, 4, 4]               0\n",
            "          Dropout-27            [-1, 512, 4, 4]               0\n",
            "           Conv2d-28            [-1, 512, 4, 4]       2,359,296\n",
            "      BatchNorm2d-29            [-1, 512, 4, 4]           1,024\n",
            "             ReLU-30            [-1, 512, 4, 4]               0\n",
            "          Dropout-31            [-1, 512, 4, 4]               0\n",
            "           Conv2d-32            [-1, 512, 4, 4]       2,359,296\n",
            "      BatchNorm2d-33            [-1, 512, 4, 4]           1,024\n",
            "             ReLU-34            [-1, 512, 4, 4]               0\n",
            "          Dropout-35            [-1, 512, 4, 4]               0\n",
            "        MaxPool2d-36            [-1, 512, 1, 1]               0\n",
            "           Linear-37                   [-1, 10]           5,130\n",
            "================================================================\n",
            "Total params: 6,573,130\n",
            "Trainable params: 6,573,130\n",
            "Non-trainable params: 0\n",
            "----------------------------------------------------------------\n",
            "Input size (MB): 0.01\n",
            "Forward/backward pass size (MB): 8.00\n",
            "Params size (MB): 25.07\n",
            "Estimated Total Size (MB): 33.09\n",
            "----------------------------------------------------------------\n"
          ]
        }
      ]
    },
    {
      "cell_type": "markdown",
      "source": [
        "## Code Block 3"
      ],
      "metadata": {
        "id": "QT1JkKp51r3d"
      }
    },
    {
      "cell_type": "code",
      "source": [
        "# Set up the optimizer\n",
        "S10assignment.giveoptimizer()\n",
        "\n",
        "# Set loss criterion\n",
        "S10assignment.giveloss()\n",
        "\n",
        "# Set LR scheduler and get MAXLR\n",
        "S10assignment.LRfinder()\n"
      ],
      "metadata": {
        "colab": {
          "base_uri": "https://localhost:8080/",
          "height": 590,
          "referenced_widgets": [
            "9bf69f5aa12447799f0e1d796cf4c8b1",
            "00ddfda4ae804eb488d5f2ec35b78466",
            "6ded3f3388804a82a07b30af943a9cbd",
            "ecd6e8e8dbc4419181de03202be744eb",
            "ef708b06caa64bd7a4d082ef2f4ea9bd",
            "648ca758603f4247aa9a11e9ddcf6e16",
            "e4fe54c3b6434808b387dee9eda23e2d",
            "aa652677ac8e48cc9035754d8c59ce72",
            "9356b7771ccc40498f87dc992f11604c",
            "60928d54d5c24947a5e88fbff38213aa",
            "67fd991a3819408e8d36de4dc16900c8"
          ]
        },
        "id": "OWo-fErnrgnh",
        "outputId": "3bb6f17b-70c2-4b61-e27a-c4333e5922ae"
      },
      "execution_count": 5,
      "outputs": [
        {
          "output_type": "stream",
          "name": "stdout",
          "text": [
            "Optimizer has been set to ADAM...\n",
            "Loss evaluated through Cross Entropy...\n"
          ]
        },
        {
          "output_type": "display_data",
          "data": {
            "text/plain": [
              "  0%|          | 0/200 [00:00<?, ?it/s]"
            ],
            "application/vnd.jupyter.widget-view+json": {
              "version_major": 2,
              "version_minor": 0,
              "model_id": "9bf69f5aa12447799f0e1d796cf4c8b1"
            }
          },
          "metadata": {}
        },
        {
          "output_type": "stream",
          "name": "stdout",
          "text": [
            "Stopping early, the loss has diverged\n",
            "Learning rate search finished. See the graph with {finder_name}.plot()\n",
            "LR suggestion: steepest gradient\n",
            "Suggested LR: 1.70E-02\n"
          ]
        },
        {
          "output_type": "display_data",
          "data": {
            "text/plain": [
              "<Figure size 640x480 with 1 Axes>"
            ],
            "image/png": "[encoded data removed]"
          },
          "metadata": {}
        }
      ]
    },
    {
      "cell_type": "markdown",
      "source": [
        "## Code Block 4"
      ],
      "metadata": {
        "id": "peHdT0rhPz1y"
      }
    },
    {
      "cell_type": "code",
      "source": [
        "# # Set One Cycle Policy\n",
        "S10assignment.scheduleOCP(1.70E-02)\n",
        "\n",
        "# Train the model\n",
        "S10assignment.runmymodel()"
      ],
      "metadata": {
        "colab": {
          "base_uri": "https://localhost:8080/"
        },
        "id": "gfqkfNfi5hbR",
        "outputId": "1cb02881-1815-461a-d4b9-86bf9494afee"
      },
      "execution_count": 6,
      "outputs": [
        {
          "output_type": "stream",
          "name": "stdout",
          "text": [
            "One Cycle Policy Activated...\n",
            "Current Epoch: 1 // Learning rate achieved at last epoch: [0.0017]\n"
          ]
        },
        {
          "output_type": "stream",
          "name": "stderr",
          "text": [
            "Train: Loss=1.3751 Batch_id=97 Accuracy=39.70: 100%|██████████| 98/98 [00:10<00:00,  9.24it/s]\n"
          ]
        },
        {
          "output_type": "stream",
          "name": "stdout",
          "text": [
            "Test set: Average loss: 0.0026, Accuracy: 5316/10000 (53.16%)\n",
            "\n",
            "Current Epoch: 2 // Learning rate achieved at last epoch: [0.0032]\n"
          ]
        },
        {
          "output_type": "stream",
          "name": "stderr",
          "text": [
            "Train: Loss=0.9627 Batch_id=97 Accuracy=59.26: 100%|██████████| 98/98 [00:10<00:00,  9.26it/s]\n"
          ]
        },
        {
          "output_type": "stream",
          "name": "stdout",
          "text": [
            "Test set: Average loss: 0.0030, Accuracy: 5215/10000 (52.15%)\n",
            "\n",
            "Current Epoch: 3 // Learning rate achieved at last epoch: [0.007]\n"
          ]
        },
        {
          "output_type": "stream",
          "name": "stderr",
          "text": [
            "Train: Loss=0.7404 Batch_id=97 Accuracy=68.77: 100%|██████████| 98/98 [00:10<00:00,  9.22it/s]\n"
          ]
        },
        {
          "output_type": "stream",
          "name": "stdout",
          "text": [
            "Test set: Average loss: 0.0026, Accuracy: 6342/10000 (63.42%)\n",
            "\n",
            "Current Epoch: 4 // Learning rate achieved at last epoch: [0.0117]\n"
          ]
        },
        {
          "output_type": "stream",
          "name": "stderr",
          "text": [
            "Train: Loss=1.0517 Batch_id=97 Accuracy=72.33: 100%|██████████| 98/98 [00:10<00:00,  9.21it/s]\n"
          ]
        },
        {
          "output_type": "stream",
          "name": "stdout",
          "text": [
            "Test set: Average loss: 0.0020, Accuracy: 6748/10000 (67.48%)\n",
            "\n",
            "Current Epoch: 5 // Learning rate achieved at last epoch: [0.0156]\n"
          ]
        },
        {
          "output_type": "stream",
          "name": "stderr",
          "text": [
            "Train: Loss=0.5354 Batch_id=97 Accuracy=76.56: 100%|██████████| 98/98 [00:10<00:00,  9.19it/s]\n"
          ]
        },
        {
          "output_type": "stream",
          "name": "stdout",
          "text": [
            "Test set: Average loss: 0.0016, Accuracy: 7335/10000 (73.35%)\n",
            "\n",
            "Current Epoch: 6 // Learning rate achieved at last epoch: [0.017]\n"
          ]
        },
        {
          "output_type": "stream",
          "name": "stderr",
          "text": [
            "Train: Loss=0.7104 Batch_id=97 Accuracy=78.62: 100%|██████████| 98/98 [00:10<00:00,  9.18it/s]\n"
          ]
        },
        {
          "output_type": "stream",
          "name": "stdout",
          "text": [
            "Test set: Average loss: 0.0013, Accuracy: 7807/10000 (78.07%)\n",
            "\n",
            "Current Epoch: 7 // Learning rate achieved at last epoch: [0.0169]\n"
          ]
        },
        {
          "output_type": "stream",
          "name": "stderr",
          "text": [
            "Train: Loss=0.6261 Batch_id=97 Accuracy=79.93: 100%|██████████| 98/98 [00:10<00:00,  9.16it/s]\n"
          ]
        },
        {
          "output_type": "stream",
          "name": "stdout",
          "text": [
            "Test set: Average loss: 0.0012, Accuracy: 7936/10000 (79.36%)\n",
            "\n",
            "Current Epoch: 8 // Learning rate achieved at last epoch: [0.0166]\n"
          ]
        },
        {
          "output_type": "stream",
          "name": "stderr",
          "text": [
            "Train: Loss=0.5545 Batch_id=97 Accuracy=81.09: 100%|██████████| 98/98 [00:10<00:00,  9.15it/s]\n"
          ]
        },
        {
          "output_type": "stream",
          "name": "stdout",
          "text": [
            "Test set: Average loss: 0.0014, Accuracy: 7618/10000 (76.18%)\n",
            "\n",
            "Current Epoch: 9 // Learning rate achieved at last epoch: [0.0161]\n"
          ]
        },
        {
          "output_type": "stream",
          "name": "stderr",
          "text": [
            "Train: Loss=0.5029 Batch_id=97 Accuracy=82.01: 100%|██████████| 98/98 [00:10<00:00,  9.14it/s]\n"
          ]
        },
        {
          "output_type": "stream",
          "name": "stdout",
          "text": [
            "Test set: Average loss: 0.0012, Accuracy: 7783/10000 (77.83%)\n",
            "\n",
            "Current Epoch: 10 // Learning rate achieved at last epoch: [0.0154]\n"
          ]
        },
        {
          "output_type": "stream",
          "name": "stderr",
          "text": [
            "Train: Loss=0.5973 Batch_id=97 Accuracy=82.39: 100%|██████████| 98/98 [00:10<00:00,  9.13it/s]\n"
          ]
        },
        {
          "output_type": "stream",
          "name": "stdout",
          "text": [
            "Test set: Average loss: 0.0013, Accuracy: 7949/10000 (79.49%)\n",
            "\n",
            "Current Epoch: 11 // Learning rate achieved at last epoch: [0.0145]\n"
          ]
        },
        {
          "output_type": "stream",
          "name": "stderr",
          "text": [
            "Train: Loss=0.4447 Batch_id=97 Accuracy=82.76: 100%|██████████| 98/98 [00:10<00:00,  9.10it/s]\n"
          ]
        },
        {
          "output_type": "stream",
          "name": "stdout",
          "text": [
            "Test set: Average loss: 0.0011, Accuracy: 8166/10000 (81.66%)\n",
            "\n",
            "Current Epoch: 12 // Learning rate achieved at last epoch: [0.0135]\n"
          ]
        },
        {
          "output_type": "stream",
          "name": "stderr",
          "text": [
            "Train: Loss=0.4488 Batch_id=97 Accuracy=83.75: 100%|██████████| 98/98 [00:10<00:00,  9.10it/s]\n"
          ]
        },
        {
          "output_type": "stream",
          "name": "stdout",
          "text": [
            "Test set: Average loss: 0.0011, Accuracy: 8157/10000 (81.57%)\n",
            "\n",
            "Current Epoch: 13 // Learning rate achieved at last epoch: [0.0124]\n"
          ]
        },
        {
          "output_type": "stream",
          "name": "stderr",
          "text": [
            "Train: Loss=0.5321 Batch_id=97 Accuracy=83.98: 100%|██████████| 98/98 [00:10<00:00,  9.06it/s]\n"
          ]
        },
        {
          "output_type": "stream",
          "name": "stdout",
          "text": [
            "Test set: Average loss: 0.0013, Accuracy: 7844/10000 (78.44%)\n",
            "\n",
            "Current Epoch: 14 // Learning rate achieved at last epoch: [0.0112]\n"
          ]
        },
        {
          "output_type": "stream",
          "name": "stderr",
          "text": [
            "Train: Loss=0.4569 Batch_id=97 Accuracy=84.70: 100%|██████████| 98/98 [00:10<00:00,  9.07it/s]\n"
          ]
        },
        {
          "output_type": "stream",
          "name": "stdout",
          "text": [
            "Test set: Average loss: 0.0011, Accuracy: 8252/10000 (82.52%)\n",
            "\n",
            "Current Epoch: 15 // Learning rate achieved at last epoch: [0.01]\n"
          ]
        },
        {
          "output_type": "stream",
          "name": "stderr",
          "text": [
            "Train: Loss=0.4714 Batch_id=97 Accuracy=85.72: 100%|██████████| 98/98 [00:10<00:00,  9.05it/s]\n"
          ]
        },
        {
          "output_type": "stream",
          "name": "stdout",
          "text": [
            "Test set: Average loss: 0.0009, Accuracy: 8539/10000 (85.39%)\n",
            "\n",
            "Current Epoch: 16 // Learning rate achieved at last epoch: [0.0087]\n"
          ]
        },
        {
          "output_type": "stream",
          "name": "stderr",
          "text": [
            "Train: Loss=0.3755 Batch_id=97 Accuracy=86.76: 100%|██████████| 98/98 [00:10<00:00,  9.01it/s]\n"
          ]
        },
        {
          "output_type": "stream",
          "name": "stdout",
          "text": [
            "Test set: Average loss: 0.0009, Accuracy: 8397/10000 (83.97%)\n",
            "\n",
            "Current Epoch: 17 // Learning rate achieved at last epoch: [0.0075]\n"
          ]
        },
        {
          "output_type": "stream",
          "name": "stderr",
          "text": [
            "Train: Loss=0.3687 Batch_id=97 Accuracy=87.41: 100%|██████████| 98/98 [00:10<00:00,  9.05it/s]\n"
          ]
        },
        {
          "output_type": "stream",
          "name": "stdout",
          "text": [
            "Test set: Average loss: 0.0008, Accuracy: 8583/10000 (85.83%)\n",
            "\n",
            "Current Epoch: 18 // Learning rate achieved at last epoch: [0.0063]\n"
          ]
        },
        {
          "output_type": "stream",
          "name": "stderr",
          "text": [
            "Train: Loss=0.3545 Batch_id=97 Accuracy=88.47: 100%|██████████| 98/98 [00:10<00:00,  9.04it/s]\n"
          ]
        },
        {
          "output_type": "stream",
          "name": "stdout",
          "text": [
            "Test set: Average loss: 0.0008, Accuracy: 8674/10000 (86.74%)\n",
            "\n",
            "Current Epoch: 19 // Learning rate achieved at last epoch: [0.0052]\n"
          ]
        },
        {
          "output_type": "stream",
          "name": "stderr",
          "text": [
            "Train: Loss=0.2750 Batch_id=97 Accuracy=89.63: 100%|██████████| 98/98 [00:10<00:00,  9.05it/s]\n"
          ]
        },
        {
          "output_type": "stream",
          "name": "stdout",
          "text": [
            "Test set: Average loss: 0.0007, Accuracy: 8832/10000 (88.32%)\n",
            "\n",
            "Current Epoch: 20 // Learning rate achieved at last epoch: [0.0042]\n"
          ]
        },
        {
          "output_type": "stream",
          "name": "stderr",
          "text": [
            "Train: Loss=0.3028 Batch_id=97 Accuracy=90.35: 100%|██████████| 98/98 [00:10<00:00,  9.06it/s]\n"
          ]
        },
        {
          "output_type": "stream",
          "name": "stdout",
          "text": [
            "Test set: Average loss: 0.0006, Accuracy: 8973/10000 (89.73%)\n",
            "\n",
            "Current Epoch: 21 // Learning rate achieved at last epoch: [0.0033]\n"
          ]
        },
        {
          "output_type": "stream",
          "name": "stderr",
          "text": [
            "Train: Loss=0.2396 Batch_id=97 Accuracy=91.38: 100%|██████████| 98/98 [00:10<00:00,  9.07it/s]\n"
          ]
        },
        {
          "output_type": "stream",
          "name": "stdout",
          "text": [
            "Test set: Average loss: 0.0006, Accuracy: 9012/10000 (90.12%)\n",
            "\n",
            "Current Epoch: 22 // Learning rate achieved at last epoch: [0.0026]\n"
          ]
        },
        {
          "output_type": "stream",
          "name": "stderr",
          "text": [
            "Train: Loss=0.2531 Batch_id=97 Accuracy=92.47: 100%|██████████| 98/98 [00:10<00:00,  9.07it/s]\n"
          ]
        },
        {
          "output_type": "stream",
          "name": "stdout",
          "text": [
            "Test set: Average loss: 0.0005, Accuracy: 9103/10000 (91.03%)\n",
            "\n",
            "Current Epoch: 23 // Learning rate achieved at last epoch: [0.0021]\n"
          ]
        },
        {
          "output_type": "stream",
          "name": "stderr",
          "text": [
            "Train: Loss=0.1718 Batch_id=97 Accuracy=93.12: 100%|██████████| 98/98 [00:10<00:00,  9.05it/s]\n"
          ]
        },
        {
          "output_type": "stream",
          "name": "stdout",
          "text": [
            "Test set: Average loss: 0.0005, Accuracy: 9106/10000 (91.06%)\n",
            "\n",
            "Current Epoch: 24 // Learning rate achieved at last epoch: [0.0018]\n"
          ]
        },
        {
          "output_type": "stream",
          "name": "stderr",
          "text": [
            "Train: Loss=0.1707 Batch_id=97 Accuracy=93.77: 100%|██████████| 98/98 [00:10<00:00,  9.07it/s]\n"
          ]
        },
        {
          "output_type": "stream",
          "name": "stdout",
          "text": [
            "Test set: Average loss: 0.0005, Accuracy: 9142/10000 (91.42%)\n",
            "\n"
          ]
        }
      ]
    },
    {
      "cell_type": "markdown",
      "source": [
        "## Code Block 5"
      ],
      "metadata": {
        "id": "Z9l9EOEkP3aa"
      }
    },
    {
      "cell_type": "code",
      "source": [
        "############# Plot LR at each epoch ##################\n",
        "\n",
        "# Create a simple line plot\n",
        "plt.plot(S10assignment.epochlr)\n",
        "\n",
        "# Add labels and title\n",
        "plt.xlabel(\"Iterations\")\n",
        "plt.ylabel(\"Learning Rate\")\n",
        "plt.title(\"Epoch level LR-OCP\")\n",
        "\n",
        "# Show the plot\n",
        "plt.show()"
      ],
      "metadata": {
        "colab": {
          "base_uri": "https://localhost:8080/",
          "height": 472
        },
        "id": "LxB2RcNL5tUX",
        "outputId": "d5bd7b14-07b5-427d-aeb5-25cae6b9e679"
      },
      "execution_count": 7,
      "outputs": [
        {
          "output_type": "display_data",
          "data": {
            "text/plain": [
              "<Figure size 640x480 with 1 Axes>"
            ],
            "image/png": "[encoded data removed]"
          },
          "metadata": {}
        }
      ]
    },
    {
      "cell_type": "code",
      "source": [
        "# Plot accuracy plots\n",
        "S10assignment.modelplots()"
      ],
      "metadata": {
        "colab": {
          "base_uri": "https://localhost:8080/",
          "height": 930
        },
        "id": "z_u-qYXBBdp0",
        "outputId": "62703590-03d7-4442-e414-c7199468cd07"
      },
      "execution_count": 8,
      "outputs": [
        {
          "output_type": "display_data",
          "data": {
            "text/plain": [
              "<Figure size 1500x1000 with 4 Axes>"
            ],
            "image/png": "[encoded data removed]"
          },
          "metadata": {}
        }
      ]
    },
    {
      "cell_type": "code",
      "source": [],
      "metadata": {
        "id": "D1-oU5EkTCt_"
      },
      "execution_count": null,
      "outputs": []
    }
  ]
}