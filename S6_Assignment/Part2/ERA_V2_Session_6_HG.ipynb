{
  "nbformat": 4,
  "nbformat_minor": 0,
  "metadata": {
    "colab": {
      "provenance": []
    },
    "kernelspec": {
      "name": "python3",
      "display_name": "Python 3"
    },
    "accelerator": "GPU"
  },
  "cells": [
    {
      "cell_type": "code",
      "metadata": {
        "id": "0m2JWFliFfKT",
        "colab": {
          "base_uri": "https://localhost:8080/"
        },
        "outputId": "24444b1f-9e9b-48f1-9970-8d4dcf674070"
      },
      "source": [
        "#import libraries\n",
        "from __future__ import print_function\n",
        "import torch\n",
        "import torch.nn as nn\n",
        "import torch.nn.functional as F\n",
        "import torch.optim as optim\n",
        "from torchvision import datasets, transforms\n",
        "!pip install torchsummary"
      ],
      "execution_count": 1,
      "outputs": [
        {
          "output_type": "stream",
          "name": "stdout",
          "text": [
            "Requirement already satisfied: torchsummary in /usr/local/lib/python3.10/dist-packages (1.5.1)\n"
          ]
        }
      ]
    },
    {
      "cell_type": "code",
      "metadata": {
        "id": "h_Cx9q2QFgM7"
      },
      "source": [
        "#Define the model\n",
        "class Net(nn.Module):\n",
        "    def __init__(self):\n",
        "        super(Net, self).__init__()\n",
        "\n",
        "        # n_in = 28, n_out = 12, r_in = 1, r_out = 6, j_in = 1, j_out = 2\n",
        "        self.conv1 = nn.Sequential(\n",
        "            nn.Conv2d(1, 16, 3),\n",
        "            nn.ReLU(),\n",
        "            nn.BatchNorm2d(16),\n",
        "            nn.Conv2d(16, 16, 3),\n",
        "            nn.ReLU(),\n",
        "            nn.BatchNorm2d(16),\n",
        "            nn.MaxPool2d(2, 2),\n",
        "            nn.Dropout(0.025),\n",
        "        )\n",
        "\n",
        "        # n_in = 12, n_out = 4, r_in = 6, r_out = 16, j_in = 2, j_out = 4\n",
        "        self.conv2 = nn.Sequential(\n",
        "            nn.Conv2d(16, 24, 3),\n",
        "            nn.ReLU(),\n",
        "            nn.BatchNorm2d(24),\n",
        "            nn.Conv2d(24, 32, 3),\n",
        "            nn.ReLU(),\n",
        "            nn.BatchNorm2d(32),\n",
        "            nn.MaxPool2d(2, 2),\n",
        "            nn.Dropout(0.025),\n",
        "            nn.Conv2d(32, 16, 1)\n",
        "        )\n",
        "\n",
        "        # n_in = 4, n_out = 4, r_in = 16, r_out = 24, j_in = 4, j_out = 4\n",
        "        self.conv3 = nn.Sequential(\n",
        "            nn.Conv2d(16, 32, 3,padding=1),\n",
        "            nn.ReLU(),\n",
        "            nn.BatchNorm2d(32),\n",
        "        )\n",
        "\n",
        "        self.global_avg_pool = nn.AdaptiveAvgPool2d(1)  # GAP reduces spatial dimensions to 1x1\n",
        "\n",
        "        # define fully connected layer\n",
        "        self.fc = nn.Linear(32, 10)\n",
        "\n",
        "\n",
        "\n",
        "    def forward(self, x):\n",
        "      x = self.conv1(x)\n",
        "      x = self.conv2(x)\n",
        "      x = self.conv3(x)\n",
        "      x = self.global_avg_pool(x)     # Apply GAP\n",
        "      x = x.view(x.size(0),-1)\n",
        "      x = self.fc(x)                  # Get the output from the fully connected layer\n",
        "      return F.log_softmax(x,dim=1)   # Apply log_softmax activation function for the output layer.\n"
      ],
      "execution_count": 2,
      "outputs": []
    },
    {
      "cell_type": "code",
      "metadata": {
        "id": "xdydjYTZFyi3",
        "colab": {
          "base_uri": "https://localhost:8080/"
        },
        "outputId": "818319a6-7bef-4a14-da97-da2fbe8f3f16"
      },
      "source": [
        "# Get model summary\n",
        "from torchsummary import summary\n",
        "use_cuda = torch.cuda.is_available()\n",
        "device = torch.device(\"cuda\" if use_cuda else \"cpu\")\n",
        "model = Net().to(device)\n",
        "summary(model, input_size=(1, 28, 28))"
      ],
      "execution_count": 3,
      "outputs": [
        {
          "output_type": "stream",
          "name": "stdout",
          "text": [
            "----------------------------------------------------------------\n",
            "        Layer (type)               Output Shape         Param #\n",
            "================================================================\n",
            "            Conv2d-1           [-1, 16, 26, 26]             160\n",
            "              ReLU-2           [-1, 16, 26, 26]               0\n",
            "       BatchNorm2d-3           [-1, 16, 26, 26]              32\n",
            "            Conv2d-4           [-1, 16, 24, 24]           2,320\n",
            "              ReLU-5           [-1, 16, 24, 24]               0\n",
            "       BatchNorm2d-6           [-1, 16, 24, 24]              32\n",
            "         MaxPool2d-7           [-1, 16, 12, 12]               0\n",
            "           Dropout-8           [-1, 16, 12, 12]               0\n",
            "            Conv2d-9           [-1, 24, 10, 10]           3,480\n",
            "             ReLU-10           [-1, 24, 10, 10]               0\n",
            "      BatchNorm2d-11           [-1, 24, 10, 10]              48\n",
            "           Conv2d-12             [-1, 32, 8, 8]           6,944\n",
            "             ReLU-13             [-1, 32, 8, 8]               0\n",
            "      BatchNorm2d-14             [-1, 32, 8, 8]              64\n",
            "        MaxPool2d-15             [-1, 32, 4, 4]               0\n",
            "          Dropout-16             [-1, 32, 4, 4]               0\n",
            "           Conv2d-17             [-1, 16, 4, 4]             528\n",
            "           Conv2d-18             [-1, 32, 4, 4]           4,640\n",
            "             ReLU-19             [-1, 32, 4, 4]               0\n",
            "      BatchNorm2d-20             [-1, 32, 4, 4]              64\n",
            "AdaptiveAvgPool2d-21             [-1, 32, 1, 1]               0\n",
            "           Linear-22                   [-1, 10]             330\n",
            "================================================================\n",
            "Total params: 18,642\n",
            "Trainable params: 18,642\n",
            "Non-trainable params: 0\n",
            "----------------------------------------------------------------\n",
            "Input size (MB): 0.00\n",
            "Forward/backward pass size (MB): 0.62\n",
            "Params size (MB): 0.07\n",
            "Estimated Total Size (MB): 0.69\n",
            "----------------------------------------------------------------\n"
          ]
        }
      ]
    },
    {
      "cell_type": "code",
      "metadata": {
        "id": "DqTWLaM5GHgH",
        "colab": {
          "base_uri": "https://localhost:8080/"
        },
        "outputId": "8d6bbea0-6f8e-42eb-e0c8-31858c2e18b9"
      },
      "source": [
        "\n",
        "# Train data transformations\n",
        "train_transforms = transforms.Compose([\n",
        "    # Randomly apply CenterCrop(22) with a 10% probability\n",
        "    # Purpose: Introduce variability during training by randomly cropping images.\n",
        "    transforms.RandomApply([transforms.CenterCrop(22), ], p=0.1),\n",
        "\n",
        "\n",
        "    # Randomly rotate the image by an angle between -15 and +15 degrees\n",
        "    # fill = 0 to fill with black pixels as background\n",
        "    # Purpose: Augment the training data by introducing random rotations.\n",
        "    transforms.RandomRotation((-15., 15.), fill=0),\n",
        "\n",
        "\n",
        "    # Resize the image to 28x28 pixels ( by default the extra pixels as black)\n",
        "    # Purpose: Standardize the image size for model input.(To maintain the consistent size of the images, resize should be done after all cropping/rotation which have the possibility of altering the image size)\n",
        "    transforms.Resize((28, 28)),\n",
        "\n",
        "    # Convert the image to a PyTorch tensor\n",
        "    # Purpose: Prepare the image data for neural network input.\n",
        "    transforms.ToTensor(),\n",
        "\n",
        "    # Normalize the pixel values using mean 0.1307 and standard deviation 0.3081\n",
        "    # Purpose: Normalize pixel values to improve model convergence and performance.\n",
        "    transforms.Normalize((0.1307,), (0.3081,)),\n",
        "])\n",
        "\n",
        "# Test data transformations\n",
        "test_transforms = transforms.Compose([\n",
        "    # Convert the image to a PyTorch tensor\n",
        "    # Purpose: Prepare test data in the same format as training data.\n",
        "    transforms.ToTensor(),\n",
        "\n",
        "\n",
        "    # Normalize the pixel values using mean 0.1307 and standard deviation 0.3081\n",
        "    # Purpose: Normalize pixel values to improve model convergence and performance.\n",
        "    transforms.Normalize((0.1307,), (0.3081,)),\n",
        "])\n",
        "\n",
        "\n",
        "train_data = datasets.MNIST('../data', train=True, download=True, transform=train_transforms)  # download and load the \"training\" data of MNIST and apply train_transform\n",
        "test_data = datasets.MNIST('../data', train=False, download=True, transform=test_transforms)   # download and load the \"test\" data of MNIST and apply test_transform\n",
        "\n",
        "\n",
        "torch.manual_seed(1)\n",
        "\n",
        "\n",
        "# Define the batch size for data loading\n",
        "batch_size = 256\n",
        "\n",
        "# Create a dictionary of keyword arguments (kwargs) for DataLoader\n",
        "kwargs = {\n",
        "    'batch_size': batch_size,   # Set the batch size for each batch of data\n",
        "    'shuffle': True,            # ensures that the model encounters a diverse mix of data during training, leading to better learning and generalization (during testing, the order of data doesn’t impact the model’s predictions)\n",
        "    'num_workers': 2,           # Number of worker threads for data loading ( each worker will deal with batchsize/num_workers set of data under a batch) # parallel processing-> reduces overall time\n",
        "    'pin_memory': True          # Enable pinning memory for faster GPU transfer\n",
        "}\n",
        "\n",
        "# Create DataLoader instances for test and train data\n",
        "# Note: test_data should be loaded for test_loader\n",
        "test_loader = torch.utils.data.DataLoader(test_data, **kwargs)   # load test data\n",
        "train_loader = torch.utils.data.DataLoader(train_data, **kwargs) # load train data\n"
      ],
      "execution_count": 4,
      "outputs": [
        {
          "output_type": "stream",
          "name": "stdout",
          "text": [
            "Downloading http://yann.lecun.com/exdb/mnist/train-images-idx3-ubyte.gz\n",
            "Downloading http://yann.lecun.com/exdb/mnist/train-images-idx3-ubyte.gz to ../data/MNIST/raw/train-images-idx3-ubyte.gz\n"
          ]
        },
        {
          "output_type": "stream",
          "name": "stderr",
          "text": [
            "100%|██████████| 9912422/9912422 [00:00<00:00, 96507702.48it/s]\n"
          ]
        },
        {
          "output_type": "stream",
          "name": "stdout",
          "text": [
            "Extracting ../data/MNIST/raw/train-images-idx3-ubyte.gz to ../data/MNIST/raw\n",
            "\n",
            "Downloading http://yann.lecun.com/exdb/mnist/train-labels-idx1-ubyte.gz\n",
            "Downloading http://yann.lecun.com/exdb/mnist/train-labels-idx1-ubyte.gz to ../data/MNIST/raw/train-labels-idx1-ubyte.gz\n"
          ]
        },
        {
          "output_type": "stream",
          "name": "stderr",
          "text": [
            "100%|██████████| 28881/28881 [00:00<00:00, 119817699.13it/s]\n"
          ]
        },
        {
          "output_type": "stream",
          "name": "stdout",
          "text": [
            "Extracting ../data/MNIST/raw/train-labels-idx1-ubyte.gz to ../data/MNIST/raw\n",
            "\n",
            "Downloading http://yann.lecun.com/exdb/mnist/t10k-images-idx3-ubyte.gz\n",
            "Downloading http://yann.lecun.com/exdb/mnist/t10k-images-idx3-ubyte.gz to ../data/MNIST/raw/t10k-images-idx3-ubyte.gz\n"
          ]
        },
        {
          "output_type": "stream",
          "name": "stderr",
          "text": [
            "100%|██████████| 1648877/1648877 [00:00<00:00, 31816803.90it/s]\n"
          ]
        },
        {
          "output_type": "stream",
          "name": "stdout",
          "text": [
            "Extracting ../data/MNIST/raw/t10k-images-idx3-ubyte.gz to ../data/MNIST/raw\n",
            "\n",
            "Downloading http://yann.lecun.com/exdb/mnist/t10k-labels-idx1-ubyte.gz\n",
            "Downloading http://yann.lecun.com/exdb/mnist/t10k-labels-idx1-ubyte.gz to ../data/MNIST/raw/t10k-labels-idx1-ubyte.gz\n"
          ]
        },
        {
          "output_type": "stream",
          "name": "stderr",
          "text": [
            "100%|██████████| 4542/4542 [00:00<00:00, 21477484.52it/s]\n"
          ]
        },
        {
          "output_type": "stream",
          "name": "stdout",
          "text": [
            "Extracting ../data/MNIST/raw/t10k-labels-idx1-ubyte.gz to ../data/MNIST/raw\n",
            "\n"
          ]
        }
      ]
    },
    {
      "cell_type": "code",
      "source": [
        "# Data to plot accuracy and loss graphs\n",
        "train_losses = []\n",
        "test_losses = []\n",
        "train_acc = []\n",
        "test_acc = []"
      ],
      "metadata": {
        "id": "pqzbnGM8TPMP"
      },
      "execution_count": 5,
      "outputs": []
    },
    {
      "cell_type": "code",
      "metadata": {
        "id": "8fDefDhaFlwH"
      },
      "source": [
        "\n",
        "\n",
        "from tqdm import tqdm  # Import tqdm for progress bars\n",
        "\n",
        "def GetCorrectPredCount(pPrediction, pLabels):\n",
        "  # This function computes the number of correct predictions by comparing\n",
        "  # the predicted labels (with the highest probability) against the true labels.\n",
        "  return pPrediction.argmax(dim=1).eq(pLabels).sum().item()\n",
        "\n",
        "def train(model, device, train_loader, optimizer, criterion):\n",
        "  # Initialize lists to store training losses and accuracies if not already present\n",
        "  global train_losses\n",
        "  global train_acc\n",
        "\n",
        "  model.train()  # Set the model to training mode\n",
        "  pbar = tqdm(train_loader)  # Wrap the data loader with tqdm for a progress bar\n",
        "\n",
        "  train_loss = 0  # Initialize total training loss\n",
        "  correct = 0  # Initialize total number of correct predictions\n",
        "  processed = 0  # Initialize total number of processed samples\n",
        "\n",
        "  for batch_idx, (data, target) in enumerate(pbar):\n",
        "    # Move the batch data and labels to the specified device (GPU)\n",
        "    data, target = data.to(device), target.to(device)\n",
        "\n",
        "    optimizer.zero_grad()  # Clear the gradients of all optimized variables\n",
        "\n",
        "    # Forward pass: compute predicted outputs by passing inputs to the model\n",
        "    pred = model(data)\n",
        "\n",
        "    # Compute loss: calculate the batch loss by comparing predicted and true labels\n",
        "    loss = criterion(pred, target)\n",
        "    train_loss += loss.item()  # Aggregate the loss\n",
        "\n",
        "    # Backward pass: compute gradient of the loss with respect to model parameters\n",
        "    loss.backward()\n",
        "    optimizer.step()  # Perform a single optimization step (parameter update)\n",
        "\n",
        "    correct += GetCorrectPredCount(pred, target)  # Update total correct predictions for the batch\n",
        "    processed += len(data)  # Update total processed samples of batch\n",
        "\n",
        "    # Update progress bar description with current loss and accuracy\n",
        "    pbar.set_description(desc=f'Train: Loss={loss.item():0.4f} Batch_id={batch_idx} Accuracy={100*correct/processed:0.2f}')\n",
        "\n",
        "  # Calculate and store the average accuracy and loss for this training epoch of training data\n",
        "  train_acc.append(100*correct/processed)\n",
        "  train_losses.append(train_loss/len(train_loader))\n",
        "\n",
        "\n",
        "def test(model, device, test_loader, criterion):\n",
        "  # Initialize lists to store test losses and accuracies if not already present\n",
        "  global test_acc\n",
        "  global test_losses\n",
        "\n",
        "  model.eval()  # Set the model to evaluation mode\n",
        "  test_loss = 0  # Initialize total test loss\n",
        "  correct = 0  # Initialize total number of correct predictions\n",
        "\n",
        "  with torch.no_grad():  # Disable gradient calculation\n",
        "    for batch_idx, (data, target) in enumerate(test_loader):\n",
        "      # Move the batch data and labels to the specified device (GPU)\n",
        "      data, target = data.to(device), target.to(device)\n",
        "\n",
        "      output = model(data)  # Compute output by passing inputs to the model\n",
        "      test_loss += criterion(output, target).item()  # Sum up batch loss\n",
        "\n",
        "      correct += GetCorrectPredCount(output, target)  # Update total correct predictions for each batch in test data\n",
        "\n",
        "  # Calculate and store the average loss and accuracy for this test run\n",
        "  test_loss /= len(test_loader.dataset)\n",
        "  test_acc.append(100. * correct / len(test_loader.dataset))\n",
        "  test_losses.append(test_loss)\n",
        "\n",
        "  # Print test results\n",
        "  print('Test set: Average loss: {:.4f}, Accuracy: {}/{} ({:.1f}%)\\n'.format(\n",
        "      test_loss, correct, len(test_loader.dataset),\n",
        "      100. * correct / len(test_loader.dataset)))\n"
      ],
      "execution_count": 6,
      "outputs": []
    },
    {
      "cell_type": "code",
      "metadata": {
        "id": "MMWbLWO6FuHb",
        "colab": {
          "base_uri": "https://localhost:8080/"
        },
        "outputId": "0b98f352-4636-4a18-e0f8-e2e8c4cb86ae"
      },
      "source": [
        "\n",
        "# Initialize the model and move it to the device ( GPU )\n",
        "model = Net().to(device)\n",
        "\n",
        "# Set up the optimizer with stochastic gradient descent with learning rate and momentum\n",
        "optimizer = optim.SGD(model.parameters(), lr=0.01, momentum=0.9)\n",
        "\n",
        "# Configure a learning rate scheduler that decays the learning rate by a factor of 0.1 every 15 epochs\n",
        "scheduler = optim.lr_scheduler.StepLR(optimizer, step_size=2, gamma=0.9, verbose=True)\n",
        "\n",
        "# Define the loss function as negative log likelihood loss.\n",
        "criterion = F.nll_loss  # nn.CrossEntropyLoss(reduction='sum')\n",
        "\n",
        "# Set the number of epochs for training\n",
        "num_epochs = 20\n",
        "\n",
        "# Loop over the dataset multiple times, once for each epoch\n",
        "for epoch in range(1, num_epochs):\n",
        "  # Print the current epoch number\n",
        "  print(f'Epoch {epoch}')\n",
        "\n",
        "  # Call the train function, passing in the model, device, data loader, optimizer, and loss function\n",
        "  train(model, device, train_loader, optimizer, criterion)\n",
        "\n",
        "  # After training, evaluate the model on test_loader\n",
        "  test(model, device, test_loader, criterion)\n",
        "\n",
        "  # Update the learning rate based on the scheduler\n",
        "  scheduler.step()"
      ],
      "execution_count": 7,
      "outputs": [
        {
          "output_type": "stream",
          "name": "stdout",
          "text": [
            "Adjusting learning rate of group 0 to 1.0000e-02.\n",
            "Epoch 1\n"
          ]
        },
        {
          "output_type": "stream",
          "name": "stderr",
          "text": [
            "Train: Loss=0.1714 Batch_id=234 Accuracy=81.77: 100%|██████████| 235/235 [00:27<00:00,  8.48it/s]\n"
          ]
        },
        {
          "output_type": "stream",
          "name": "stdout",
          "text": [
            "Test set: Average loss: 0.0004, Accuracy: 9763/10000 (97.6%)\n",
            "\n",
            "Adjusting learning rate of group 0 to 1.0000e-02.\n",
            "Epoch 2\n"
          ]
        },
        {
          "output_type": "stream",
          "name": "stderr",
          "text": [
            "Train: Loss=0.0701 Batch_id=234 Accuracy=96.82: 100%|██████████| 235/235 [00:20<00:00, 11.36it/s]\n"
          ]
        },
        {
          "output_type": "stream",
          "name": "stdout",
          "text": [
            "Test set: Average loss: 0.0002, Accuracy: 9852/10000 (98.5%)\n",
            "\n",
            "Adjusting learning rate of group 0 to 9.0000e-03.\n",
            "Epoch 3\n"
          ]
        },
        {
          "output_type": "stream",
          "name": "stderr",
          "text": [
            "Train: Loss=0.0701 Batch_id=234 Accuracy=97.76: 100%|██████████| 235/235 [00:21<00:00, 11.15it/s]\n"
          ]
        },
        {
          "output_type": "stream",
          "name": "stdout",
          "text": [
            "Test set: Average loss: 0.0002, Accuracy: 9879/10000 (98.8%)\n",
            "\n",
            "Adjusting learning rate of group 0 to 9.0000e-03.\n",
            "Epoch 4\n"
          ]
        },
        {
          "output_type": "stream",
          "name": "stderr",
          "text": [
            "Train: Loss=0.0169 Batch_id=234 Accuracy=98.16: 100%|██████████| 235/235 [00:21<00:00, 11.08it/s]\n"
          ]
        },
        {
          "output_type": "stream",
          "name": "stdout",
          "text": [
            "Test set: Average loss: 0.0001, Accuracy: 9896/10000 (99.0%)\n",
            "\n",
            "Adjusting learning rate of group 0 to 8.1000e-03.\n",
            "Epoch 5\n"
          ]
        },
        {
          "output_type": "stream",
          "name": "stderr",
          "text": [
            "Train: Loss=0.0109 Batch_id=234 Accuracy=98.42: 100%|██████████| 235/235 [00:21<00:00, 11.14it/s]\n"
          ]
        },
        {
          "output_type": "stream",
          "name": "stdout",
          "text": [
            "Test set: Average loss: 0.0001, Accuracy: 9917/10000 (99.2%)\n",
            "\n",
            "Adjusting learning rate of group 0 to 8.1000e-03.\n",
            "Epoch 6\n"
          ]
        },
        {
          "output_type": "stream",
          "name": "stderr",
          "text": [
            "Train: Loss=0.0309 Batch_id=234 Accuracy=98.51: 100%|██████████| 235/235 [00:20<00:00, 11.54it/s]\n"
          ]
        },
        {
          "output_type": "stream",
          "name": "stdout",
          "text": [
            "Test set: Average loss: 0.0001, Accuracy: 9908/10000 (99.1%)\n",
            "\n",
            "Adjusting learning rate of group 0 to 7.2900e-03.\n",
            "Epoch 7\n"
          ]
        },
        {
          "output_type": "stream",
          "name": "stderr",
          "text": [
            "Train: Loss=0.0381 Batch_id=234 Accuracy=98.69: 100%|██████████| 235/235 [00:21<00:00, 11.03it/s]\n"
          ]
        },
        {
          "output_type": "stream",
          "name": "stdout",
          "text": [
            "Test set: Average loss: 0.0001, Accuracy: 9912/10000 (99.1%)\n",
            "\n",
            "Adjusting learning rate of group 0 to 7.2900e-03.\n",
            "Epoch 8\n"
          ]
        },
        {
          "output_type": "stream",
          "name": "stderr",
          "text": [
            "Train: Loss=0.0511 Batch_id=234 Accuracy=98.72: 100%|██████████| 235/235 [00:21<00:00, 10.99it/s]\n"
          ]
        },
        {
          "output_type": "stream",
          "name": "stdout",
          "text": [
            "Test set: Average loss: 0.0001, Accuracy: 9922/10000 (99.2%)\n",
            "\n",
            "Adjusting learning rate of group 0 to 6.5610e-03.\n",
            "Epoch 9\n"
          ]
        },
        {
          "output_type": "stream",
          "name": "stderr",
          "text": [
            "Train: Loss=0.0178 Batch_id=234 Accuracy=98.80: 100%|██████████| 235/235 [00:21<00:00, 10.97it/s]\n"
          ]
        },
        {
          "output_type": "stream",
          "name": "stdout",
          "text": [
            "Test set: Average loss: 0.0001, Accuracy: 9932/10000 (99.3%)\n",
            "\n",
            "Adjusting learning rate of group 0 to 6.5610e-03.\n",
            "Epoch 10\n"
          ]
        },
        {
          "output_type": "stream",
          "name": "stderr",
          "text": [
            "Train: Loss=0.0427 Batch_id=234 Accuracy=98.81: 100%|██████████| 235/235 [00:20<00:00, 11.49it/s]\n"
          ]
        },
        {
          "output_type": "stream",
          "name": "stdout",
          "text": [
            "Test set: Average loss: 0.0001, Accuracy: 9931/10000 (99.3%)\n",
            "\n",
            "Adjusting learning rate of group 0 to 5.9049e-03.\n",
            "Epoch 11\n"
          ]
        },
        {
          "output_type": "stream",
          "name": "stderr",
          "text": [
            "Train: Loss=0.0317 Batch_id=234 Accuracy=98.85: 100%|██████████| 235/235 [00:20<00:00, 11.56it/s]\n"
          ]
        },
        {
          "output_type": "stream",
          "name": "stdout",
          "text": [
            "Test set: Average loss: 0.0001, Accuracy: 9929/10000 (99.3%)\n",
            "\n",
            "Adjusting learning rate of group 0 to 5.9049e-03.\n",
            "Epoch 12\n"
          ]
        },
        {
          "output_type": "stream",
          "name": "stderr",
          "text": [
            "Train: Loss=0.0263 Batch_id=234 Accuracy=98.90: 100%|██████████| 235/235 [00:21<00:00, 11.11it/s]\n"
          ]
        },
        {
          "output_type": "stream",
          "name": "stdout",
          "text": [
            "Test set: Average loss: 0.0001, Accuracy: 9932/10000 (99.3%)\n",
            "\n",
            "Adjusting learning rate of group 0 to 5.3144e-03.\n",
            "Epoch 13\n"
          ]
        },
        {
          "output_type": "stream",
          "name": "stderr",
          "text": [
            "Train: Loss=0.0719 Batch_id=234 Accuracy=99.04: 100%|██████████| 235/235 [00:21<00:00, 10.90it/s]\n"
          ]
        },
        {
          "output_type": "stream",
          "name": "stdout",
          "text": [
            "Test set: Average loss: 0.0001, Accuracy: 9929/10000 (99.3%)\n",
            "\n",
            "Adjusting learning rate of group 0 to 5.3144e-03.\n",
            "Epoch 14\n"
          ]
        },
        {
          "output_type": "stream",
          "name": "stderr",
          "text": [
            "Train: Loss=0.0143 Batch_id=234 Accuracy=98.95: 100%|██████████| 235/235 [00:21<00:00, 10.85it/s]\n"
          ]
        },
        {
          "output_type": "stream",
          "name": "stdout",
          "text": [
            "Test set: Average loss: 0.0001, Accuracy: 9934/10000 (99.3%)\n",
            "\n",
            "Adjusting learning rate of group 0 to 4.7830e-03.\n",
            "Epoch 15\n"
          ]
        },
        {
          "output_type": "stream",
          "name": "stderr",
          "text": [
            "Train: Loss=0.0957 Batch_id=234 Accuracy=99.06: 100%|██████████| 235/235 [00:20<00:00, 11.50it/s]\n"
          ]
        },
        {
          "output_type": "stream",
          "name": "stdout",
          "text": [
            "Test set: Average loss: 0.0001, Accuracy: 9939/10000 (99.4%)\n",
            "\n",
            "Adjusting learning rate of group 0 to 4.7830e-03.\n",
            "Epoch 16\n"
          ]
        },
        {
          "output_type": "stream",
          "name": "stderr",
          "text": [
            "Train: Loss=0.0644 Batch_id=234 Accuracy=99.06: 100%|██████████| 235/235 [00:20<00:00, 11.44it/s]\n"
          ]
        },
        {
          "output_type": "stream",
          "name": "stdout",
          "text": [
            "Test set: Average loss: 0.0001, Accuracy: 9936/10000 (99.4%)\n",
            "\n",
            "Adjusting learning rate of group 0 to 4.3047e-03.\n",
            "Epoch 17\n"
          ]
        },
        {
          "output_type": "stream",
          "name": "stderr",
          "text": [
            "Train: Loss=0.0595 Batch_id=234 Accuracy=99.10: 100%|██████████| 235/235 [00:21<00:00, 10.96it/s]\n"
          ]
        },
        {
          "output_type": "stream",
          "name": "stdout",
          "text": [
            "Test set: Average loss: 0.0001, Accuracy: 9940/10000 (99.4%)\n",
            "\n",
            "Adjusting learning rate of group 0 to 4.3047e-03.\n",
            "Epoch 18\n"
          ]
        },
        {
          "output_type": "stream",
          "name": "stderr",
          "text": [
            "Train: Loss=0.0302 Batch_id=234 Accuracy=99.18: 100%|██████████| 235/235 [00:21<00:00, 10.82it/s]\n"
          ]
        },
        {
          "output_type": "stream",
          "name": "stdout",
          "text": [
            "Test set: Average loss: 0.0001, Accuracy: 9941/10000 (99.4%)\n",
            "\n",
            "Adjusting learning rate of group 0 to 3.8742e-03.\n",
            "Epoch 19\n"
          ]
        },
        {
          "output_type": "stream",
          "name": "stderr",
          "text": [
            "Train: Loss=0.0359 Batch_id=234 Accuracy=99.14: 100%|██████████| 235/235 [00:21<00:00, 10.93it/s]\n"
          ]
        },
        {
          "output_type": "stream",
          "name": "stdout",
          "text": [
            "Test set: Average loss: 0.0001, Accuracy: 9945/10000 (99.5%)\n",
            "\n",
            "Adjusting learning rate of group 0 to 3.8742e-03.\n"
          ]
        }
      ]
    },
    {
      "cell_type": "code",
      "source": [
        "import matplotlib.pyplot as plt\n",
        "fig, axs = plt.subplots(2,2,figsize=(15,10))\n",
        "axs[0, 0].plot(train_losses)\n",
        "axs[0, 0].set_title(\"Training Loss\")\n",
        "axs[0, 1].plot(test_losses)\n",
        "axs[0, 1].set_title(\"Test Loss\")\n",
        "axs[1, 0].plot(train_acc)\n",
        "axs[1, 0].set_title(\"Training Accuracy\")\n",
        "axs[1, 1].plot(test_acc)\n",
        "axs[1, 1].set_title(\"Test Accuracy\")"
      ],
      "metadata": {
        "id": "2Qj2hPd3h9Fu",
        "colab": {
          "base_uri": "https://localhost:8080/",
          "height": 870
        },
        "outputId": "6e01c89c-7911-48b6-d739-ea792be0a5d0"
      },
      "execution_count": 8,
      "outputs": [
        {
          "output_type": "execute_result",
          "data": {
            "text/plain": [
              "Text(0.5, 1.0, 'Test Accuracy')"
            ]
          },
          "metadata": {},
          "execution_count": 8
        },
        {
          "output_type": "display_data",
          "data": {
            "text/plain": [
              "<Figure size 1500x1000 with 4 Axes>"
            ],
            "image/png": "[encoded data removed]"
          },
          "metadata": {}
        }
      ]
    }
  ]
}